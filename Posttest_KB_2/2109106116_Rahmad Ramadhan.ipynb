{
 "cells": [
  {
   "cell_type": "code",
   "execution_count": 4,
   "id": "1bbe39b8-a75c-4b85-8903-626be0319a75",
   "metadata": {},
   "outputs": [],
   "source": [
    "# Posttest 2\n",
    "## Nama : Rahmad Ramadhan\n",
    "## NIM : 2109106116\n",
    "## Kelas : C1_21\n",
    "## Dataset yang digunakan : prochoice_prolife "
   ]
  },
  {
   "cell_type": "code",
   "execution_count": 5,
   "id": "ffd481b4-4843-4fcf-961a-9dc0c63edb94",
   "metadata": {},
   "outputs": [
    {
     "name": "stdout",
     "output_type": "stream",
     "text": [
      "<class 'pandas.core.frame.DataFrame'>\n",
      "RangeIndex: 56040 entries, 0 to 56039\n",
      "Data columns (total 11 columns):\n",
      " #   Column           Non-Null Count  Dtype \n",
      "---  ------           --------------  ----- \n",
      " 0   Unnamed: 0       56040 non-null  int64 \n",
      " 1   author_id        56040 non-null  int64 \n",
      " 2   author_name      56031 non-null  object\n",
      " 3   author_username  56040 non-null  object\n",
      " 4   created_at       56040 non-null  object\n",
      " 5   id               56040 non-null  int64 \n",
      " 6   public_metrics   56040 non-null  object\n",
      " 7   text             56040 non-null  object\n",
      " 8   retweet_count    56040 non-null  int64 \n",
      " 9   like_count       56040 non-null  int64 \n",
      " 10  target           56040 non-null  int64 \n",
      "dtypes: int64(6), object(5)\n",
      "memory usage: 4.7+ MB\n"
     ]
    }
   ],
   "source": [
    "import pandas as pd\n",
    "import numpy as np\n",
    "\n",
    "from prettytable import PrettyTable\n",
    "\n",
    "df = pd.read_csv(\"prochoice_prolife.csv\")\n",
    "df.info()"
   ]
  },
  {
   "cell_type": "code",
   "execution_count": 6,
   "id": "306a567e-0440-4404-8868-c1c6227f7e7b",
   "metadata": {},
   "outputs": [],
   "source": [
    "# Point 1 \n",
    "## Tampilkan rata-rata, standar deviasi, nilai minimum, nilai maksimum, Q1, Q2, dan Q3 dari attribute bertipe angka."
   ]
  },
  {
   "cell_type": "code",
   "execution_count": 7,
   "id": "af88c695-ec1c-4be0-bde6-d2134efece17",
   "metadata": {},
   "outputs": [],
   "source": [
    "# Jawab \n",
    "## Menggunakan df.describe() perintah ini untuk mendapatkan ringkasan statistik seperti perhitungan jumlah, rata-rata, standar deviasi, nilai minimum, Q1 = 25%, Q2 = 50%, Q3 = 75%, dan nilai maksimum."
   ]
  },
  {
   "cell_type": "code",
   "execution_count": 8,
   "id": "d0aa7c9a-c86e-408d-85b9-dbc2968406c4",
   "metadata": {},
   "outputs": [
    {
     "data": {
      "text/html": [
       "<div>\n",
       "<style scoped>\n",
       "    .dataframe tbody tr th:only-of-type {\n",
       "        vertical-align: middle;\n",
       "    }\n",
       "\n",
       "    .dataframe tbody tr th {\n",
       "        vertical-align: top;\n",
       "    }\n",
       "\n",
       "    .dataframe thead th {\n",
       "        text-align: right;\n",
       "    }\n",
       "</style>\n",
       "<table border=\"1\" class=\"dataframe\">\n",
       "  <thead>\n",
       "    <tr style=\"text-align: right;\">\n",
       "      <th></th>\n",
       "      <th>Unnamed: 0</th>\n",
       "      <th>author_id</th>\n",
       "      <th>id</th>\n",
       "      <th>retweet_count</th>\n",
       "      <th>like_count</th>\n",
       "      <th>target</th>\n",
       "    </tr>\n",
       "  </thead>\n",
       "  <tbody>\n",
       "    <tr>\n",
       "      <th>count</th>\n",
       "      <td>56040.000000</td>\n",
       "      <td>5.604000e+04</td>\n",
       "      <td>5.604000e+04</td>\n",
       "      <td>56040.000000</td>\n",
       "      <td>56040.000000</td>\n",
       "      <td>56040.000000</td>\n",
       "    </tr>\n",
       "    <tr>\n",
       "      <th>mean</th>\n",
       "      <td>14015.277320</td>\n",
       "      <td>6.942944e+17</td>\n",
       "      <td>1.541222e+18</td>\n",
       "      <td>1.135046</td>\n",
       "      <td>5.561046</td>\n",
       "      <td>0.510153</td>\n",
       "    </tr>\n",
       "    <tr>\n",
       "      <th>std</th>\n",
       "      <td>8098.747894</td>\n",
       "      <td>6.534455e+17</td>\n",
       "      <td>9.109174e+14</td>\n",
       "      <td>16.148907</td>\n",
       "      <td>98.445893</td>\n",
       "      <td>0.499901</td>\n",
       "    </tr>\n",
       "    <tr>\n",
       "      <th>min</th>\n",
       "      <td>0.000000</td>\n",
       "      <td>1.135100e+04</td>\n",
       "      <td>1.539760e+18</td>\n",
       "      <td>0.000000</td>\n",
       "      <td>0.000000</td>\n",
       "      <td>0.000000</td>\n",
       "    </tr>\n",
       "    <tr>\n",
       "      <th>25%</th>\n",
       "      <td>7004.750000</td>\n",
       "      <td>4.338940e+08</td>\n",
       "      <td>1.540497e+18</td>\n",
       "      <td>0.000000</td>\n",
       "      <td>0.000000</td>\n",
       "      <td>0.000000</td>\n",
       "    </tr>\n",
       "    <tr>\n",
       "      <th>50%</th>\n",
       "      <td>14009.500000</td>\n",
       "      <td>8.598755e+17</td>\n",
       "      <td>1.540928e+18</td>\n",
       "      <td>0.000000</td>\n",
       "      <td>0.000000</td>\n",
       "      <td>1.000000</td>\n",
       "    </tr>\n",
       "    <tr>\n",
       "      <th>75%</th>\n",
       "      <td>21014.250000</td>\n",
       "      <td>1.337281e+18</td>\n",
       "      <td>1.541610e+18</td>\n",
       "      <td>0.000000</td>\n",
       "      <td>1.000000</td>\n",
       "      <td>1.000000</td>\n",
       "    </tr>\n",
       "    <tr>\n",
       "      <th>max</th>\n",
       "      <td>28588.000000</td>\n",
       "      <td>1.543604e+18</td>\n",
       "      <td>1.543746e+18</td>\n",
       "      <td>2009.000000</td>\n",
       "      <td>17377.000000</td>\n",
       "      <td>1.000000</td>\n",
       "    </tr>\n",
       "  </tbody>\n",
       "</table>\n",
       "</div>"
      ],
      "text/plain": [
       "         Unnamed: 0     author_id            id  retweet_count    like_count  \\\n",
       "count  56040.000000  5.604000e+04  5.604000e+04   56040.000000  56040.000000   \n",
       "mean   14015.277320  6.942944e+17  1.541222e+18       1.135046      5.561046   \n",
       "std     8098.747894  6.534455e+17  9.109174e+14      16.148907     98.445893   \n",
       "min        0.000000  1.135100e+04  1.539760e+18       0.000000      0.000000   \n",
       "25%     7004.750000  4.338940e+08  1.540497e+18       0.000000      0.000000   \n",
       "50%    14009.500000  8.598755e+17  1.540928e+18       0.000000      0.000000   \n",
       "75%    21014.250000  1.337281e+18  1.541610e+18       0.000000      1.000000   \n",
       "max    28588.000000  1.543604e+18  1.543746e+18    2009.000000  17377.000000   \n",
       "\n",
       "             target  \n",
       "count  56040.000000  \n",
       "mean       0.510153  \n",
       "std        0.499901  \n",
       "min        0.000000  \n",
       "25%        0.000000  \n",
       "50%        1.000000  \n",
       "75%        1.000000  \n",
       "max        1.000000  "
      ]
     },
     "execution_count": 8,
     "metadata": {},
     "output_type": "execute_result"
    }
   ],
   "source": [
    "df.describe()"
   ]
  },
  {
   "cell_type": "code",
   "execution_count": 9,
   "id": "cdd46227-40b9-4191-9cdb-65e2dcecb5ef",
   "metadata": {},
   "outputs": [],
   "source": [
    "# Point 2\n",
    "## Menampilkan 10 record pertama dari attribut bertipe angka\n",
    "# Jawab \n",
    "## Menggunakan df.head() perintah ini dapat menampilkan 10 record pertama"
   ]
  },
  {
   "cell_type": "code",
   "execution_count": 10,
   "id": "c6837ff6-4748-4004-bb14-93e0772e0e53",
   "metadata": {},
   "outputs": [
    {
     "name": "stdout",
     "output_type": "stream",
     "text": [
      "   Unnamed: 0            author_id                   id  retweet_count  \\\n",
      "0       28588             73506221  1539760170900799490              5   \n",
      "1       28587             96631851  1539760456977395712              0   \n",
      "2       28586           3041829701  1539761277702213633              0   \n",
      "3       28537            177260708  1539762620055552001              6   \n",
      "4       27450  1523376591052582912  1539762647922421763              0   \n",
      "5       28585             14654281  1539763199095934976              0   \n",
      "6       28584             15495018  1539764259512516608              0   \n",
      "7       27449  1474160610292207627  1539765794074247170              0   \n",
      "8       28583   872410623954616323  1539766873390256132              1   \n",
      "9       28582             94012779  1539767340782559233              0   \n",
      "\n",
      "   like_count  target  \n",
      "0          13       1  \n",
      "1           0       1  \n",
      "2           0       1  \n",
      "3          19       1  \n",
      "4           1       0  \n",
      "5           0       1  \n",
      "6           0       1  \n",
      "7           7       0  \n",
      "8           2       1  \n",
      "9           0       1  \n"
     ]
    }
   ],
   "source": [
    "sepuluh_angka_pertama = df.select_dtypes(include=['int', 'float']).head(10)\n",
    "print(sepuluh_angka_pertama)"
   ]
  },
  {
   "cell_type": "code",
   "execution_count": 11,
   "id": "c3432f1a-1399-48b2-9bf2-0634f931a0f6",
   "metadata": {},
   "outputs": [],
   "source": [
    "# Point 3 \n",
    "## Tampilkan informasi jumlah record, jumlah attribute, nama attribute, jumlah attribute dengan tipe angka. Masukkan informasi tersebut dalam dictionary dengan key sesuai nama informasinya. Tampilkan isi dari dictionary tersebut sebagus mungkin.\n",
    "# Jawab \n",
    "## menampilkan Jumlah record yang merupakan jumlah baris dan kolom menggunakan df.shape\n",
    "## menampilkan nama atribut dari setiap kolom dengan menggunakan df.columns.values\n",
    "## menampilkan jumlah atribut yang menggunakan tipe angka dengan tipe angka dengan df.select_dtypes([\"int64\",\"float64\"]).columns) numns"
   ]
  },
  {
   "cell_type": "code",
   "execution_count": 12,
   "id": "47341d63-e7ba-499d-a786-b1633ac2e9de",
   "metadata": {},
   "outputs": [
    {
     "name": "stdout",
     "output_type": "stream",
     "text": [
      "+----------------------+-------------------+--------+\n",
      "|         Info         |      Atribute     | Jumlah |\n",
      "+----------------------+-------------------+--------+\n",
      "|        Record        |         -         | 56040  |\n",
      "|      Attribute       |    Unnamed: 0,    |   11   |\n",
      "|                      |    author_id,     |        |\n",
      "|                      |   author_name,    |        |\n",
      "|                      | author_username,  |        |\n",
      "|                      |    created_at,    |        |\n",
      "|                      |        id,        |        |\n",
      "|                      |  public_metrics,  |        |\n",
      "|                      |       text,       |        |\n",
      "|                      |  retweet_count,   |        |\n",
      "|                      |    like_count,    |        |\n",
      "|                      |       target      |        |\n",
      "| Attribute Tipe Objek |   author_name,    |   5    |\n",
      "|                      | author_username,  |        |\n",
      "|                      |    created_at,    |        |\n",
      "|                      |  public_metrics,  |        |\n",
      "|                      |        text       |        |\n",
      "| Attribute Tipe Angka |    Unnamed: 0,    |   6    |\n",
      "|                      |    author_id,     |        |\n",
      "|                      |        id,        |        |\n",
      "|                      |  retweet_count,   |        |\n",
      "|                      |    like_count,    |        |\n",
      "|                      |       target      |        |\n",
      "|    Attribute Null    |    author_name    |   1    |\n",
      "+----------------------+-------------------+--------+\n"
     ]
    }
   ],
   "source": [
    "# Mengimpor PrettyTable\n",
    "from prettytable import PrettyTable\n",
    "\n",
    "\n",
    "info_data = {\n",
    "    \"Record\": df.shape[0],\n",
    "    \"Attribute\": list(df.columns.values),\n",
    "    \"Attribute Tipe Objek\": list(df.select_dtypes([\"object\"]).columns),\n",
    "    \"Attribute Tipe Angka\": list(df.select_dtypes([\"int64\", \"float64\"]).columns),\n",
    "    \"Attribute Null\": list(df.columns[df.isnull().any()]),\n",
    "}\n",
    "\n",
    "keys = list(info_data.keys())\n",
    "\n",
    "# Membuat PrettyTable\n",
    "info_dataTable = PrettyTable()\n",
    "info_dataTable.field_names = [\"Info\", \"Atribute\", \"Jumlah\"]\n",
    "\n",
    "# Memasukkan nilai-nilai\n",
    "info_dataTable.add_row([keys[0], \"-\", info_data[keys[0]]])\n",
    "\n",
    "for i in range(1, 5):\n",
    "    info_dataTable.add_row([keys[i], \", \\n\".join(info_data[keys[i]]), len(info_data[keys[i]])])\n",
    "\n",
    "print(info_dataTable)"
   ]
  },
  {
   "cell_type": "code",
   "execution_count": 13,
   "id": "aa7a79df-2241-4b81-a6a2-58fe7c38e79c",
   "metadata": {},
   "outputs": [],
   "source": [
    "# Point 4\n",
    "## Tampilkan nilai dataset pada baris dimulai dengan 3 digit NIM akhir hingga data terakhir dan kolom ke 4 hingga kolom terakhir menggunakan ke 2 metode slice.\n",
    "# Jawab \n",
    "## Menggunakan metode slice dengan iloc sliced_data = data.iloc[nim:, 3:] print(sliced_data)"
   ]
  },
  {
   "cell_type": "code",
   "execution_count": 14,
   "id": "b5be15ed-2b67-4a1e-8567-dbfa643cf6d0",
   "metadata": {},
   "outputs": [
    {
     "name": "stdout",
     "output_type": "stream",
     "text": [
      "       author_username                 created_at                   id  \\\n",
      "116       CodyMcDevitt  2022-06-23 06:02:32+00:00  1539851381112295424   \n",
      "117    FriendOfThurlow  2022-06-23 06:03:45+00:00  1539851685547368450   \n",
      "118     All_Fem_United  2022-06-23 06:04:46+00:00  1539851940921610240   \n",
      "119          MrsGhasem  2022-06-23 06:07:30+00:00  1539852629701959680   \n",
      "120      ThisIsTiaRose  2022-06-23 06:13:55+00:00  1539854244437803008   \n",
      "...                ...                        ...                  ...   \n",
      "56035        WV116_G16  2022-07-03 23:57:19+00:00  1543745736587837441   \n",
      "56036   Christ_isLight  2022-07-03 23:57:37+00:00  1543745810696847360   \n",
      "56037    videodweller4  2022-07-03 23:57:58+00:00  1543745898068336640   \n",
      "56038           8enoit  2022-07-03 23:58:20+00:00  1543745992876515328   \n",
      "56039  The_Scrutiniser  2022-07-03 23:59:36+00:00  1543746310473322496   \n",
      "\n",
      "                                          public_metrics  \\\n",
      "116    {'retweet_count': 0, 'reply_count': 0, 'like_c...   \n",
      "117    {'retweet_count': 0, 'reply_count': 0, 'like_c...   \n",
      "118    {'retweet_count': 0, 'reply_count': 0, 'like_c...   \n",
      "119    {'retweet_count': 1, 'reply_count': 1, 'like_c...   \n",
      "120    {'retweet_count': 0, 'reply_count': 2, 'like_c...   \n",
      "...                                                  ...   \n",
      "56035  {'retweet_count': 1, 'reply_count': 1, 'like_c...   \n",
      "56036  {'retweet_count': 0, 'reply_count': 1, 'like_c...   \n",
      "56037  {'retweet_count': 0, 'reply_count': 0, 'like_c...   \n",
      "56038  {'retweet_count': 2, 'reply_count': 0, 'like_c...   \n",
      "56039  {'retweet_count': 1, 'reply_count': 0, 'like_c...   \n",
      "\n",
      "                                                    text  retweet_count  \\\n",
      "116    We Testify connects abortion storytellers with...              0   \n",
      "117    @tlou00 @LukeRussert We Can Say That \"Progress...              0   \n",
      "118    Now more than ever we are already #ProChoice h...              0   \n",
      "119    #Prolife #antiabortusactivisten\\nEat your hear...              1   \n",
      "120    Notice how they didn't even address anything f...              0   \n",
      "...                                                  ...            ...   \n",
      "56035  Next June is going to be more fun #ProLife htt...              1   \n",
      "56036  @Hammock_Thomas @MariaLaoise I'm alarmed to he...              0   \n",
      "56037  At a #WomensRights and #prochoice rally https:...              0   \n",
      "56038  Je refuse leur vaccin expérimental. \\n#monCorp...              2   \n",
      "56039                 #prochoice https://t.co/TymBKe6sT1              1   \n",
      "\n",
      "       like_count  target  \n",
      "116             0       0  \n",
      "117             0       0  \n",
      "118             6       0  \n",
      "119             0       1  \n",
      "120             5       1  \n",
      "...           ...     ...  \n",
      "56035           3       1  \n",
      "56036           1       1  \n",
      "56037           0       0  \n",
      "56038           4       0  \n",
      "56039           4       0  \n",
      "\n",
      "[55924 rows x 8 columns]\n"
     ]
    }
   ],
   "source": [
    "import pandas as pd\n",
    "\n",
    "# Mengimpor dataset dari file CSV\n",
    "data = pd.read_csv('prochoice_prolife.csv')\n",
    "\n",
    "# Menggunakan metode slice dengan iloc\n",
    "sliced_data = data.iloc[116:, 3:]\n",
    "print(sliced_data)"
   ]
  },
  {
   "cell_type": "code",
   "execution_count": 15,
   "id": "79d9a7df-165f-449e-9eea-7a020b00b1e1",
   "metadata": {},
   "outputs": [],
   "source": [
    "# Point 5\n",
    "## Tampilkan jumlah label dari semua attribute yang bernilai object (contoh : Jenis Kelamin, Agama).\n",
    "# Jawab\n",
    "## menggunakan kolom_objek = df.select_dtypes(include=['object']) untuk filter kolom dengan tipe data objek setelah itu ditampilkan dan hitung jumlah label untuk setiap kolom objek"
   ]
  },
  {
   "cell_type": "code",
   "execution_count": 16,
   "id": "56ce9ee7-add1-477b-9ab7-ee93b8a53255",
   "metadata": {},
   "outputs": [
    {
     "name": "stdout",
     "output_type": "stream",
     "text": [
      "Kolom 'author_name' memiliki 26866 label unik.\n",
      "Kolom 'author_username' memiliki 27891 label unik.\n",
      "Kolom 'created_at' memiliki 48396 label unik.\n",
      "Kolom 'public_metrics' memiliki 2886 label unik.\n",
      "Kolom 'text' memiliki 51106 label unik.\n"
     ]
    }
   ],
   "source": [
    "# Filter kolom dengan tipe data objek\n",
    "kolom_objek = df.select_dtypes(include=['object'])\n",
    "\n",
    "# Tampilkan kolom-kolom objek\n",
    "kolom_objek.head()\n",
    "\n",
    "# Hitung jumlah label untuk setiap kolom objek\n",
    "for kolom in kolom_objek.columns:\n",
    "    jumlah_label = df[kolom].nunique()\n",
    "    print(f\"Kolom '{kolom}' memiliki {jumlah_label} label unik.\")"
   ]
  },
  {
   "cell_type": "code",
   "execution_count": null,
   "id": "84e5d4b0-9ca1-43dc-92ef-7cee0e9897cc",
   "metadata": {},
   "outputs": [],
   "source": []
  }
 ],
 "metadata": {
  "kernelspec": {
   "display_name": "Python 3 (ipykernel)",
   "language": "python",
   "name": "python3"
  },
  "language_info": {
   "codemirror_mode": {
    "name": "ipython",
    "version": 3
   },
   "file_extension": ".py",
   "mimetype": "text/x-python",
   "name": "python",
   "nbconvert_exporter": "python",
   "pygments_lexer": "ipython3",
   "version": "3.10.7"
  }
 },
 "nbformat": 4,
 "nbformat_minor": 5
}
