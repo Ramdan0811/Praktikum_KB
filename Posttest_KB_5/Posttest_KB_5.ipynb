{
 "cells": [
  {
   "cell_type": "markdown",
   "id": "8417f9a7-0b6d-4e16-a037-6ad399ccfaf3",
   "metadata": {},
   "source": [
    "### Posttest 5\n",
    "Nama : Rahmad Ramadhan\n"
   ]
  },
  {
   "cell_type": "markdown",
   "id": "8a5d9de1-678b-460d-91ce-c0209aead8a4",
   "metadata": {},
   "source": [
    "NIM : 2109106116\n"
   ]
  },
  {
   "cell_type": "markdown",
   "id": "429c2d7d-7c13-4b59-8cf7-5e40b3adef81",
   "metadata": {},
   "source": [
    "Kelas : C1'21"
   ]
  },
  {
   "cell_type": "code",
   "execution_count": 1,
   "id": "e80f113a-051e-4486-9d99-b2f3dc48a85a",
   "metadata": {},
   "outputs": [],
   "source": [
    "import pandas as pd\n",
    "import matplotlib.pyplot as plt\n",
    "import numpy as np\n",
    "import seaborn as sns\n",
    "from sklearn.svm import SVC\n",
    "from sklearn.linear_model import LinearRegression\n",
    "from sklearn.model_selection import train_test_split\n",
    "from sklearn.cluster import KMeans\n",
    "from sklearn.metrics import classification_report, adjusted_rand_score, normalized_mutual_info_score, homogeneity_score, completeness_score, v_measure_score, mean_absolute_error, mean_squared_error, r2_score"
   ]
  },
  {
   "cell_type": "markdown",
   "id": "c7f2c8b4-63ba-43f9-a118-8e14511b6358",
   "metadata": {},
   "source": [
    "Mengurangi jumlah dataset dikarenakan jumlah data yang berlebih"
   ]
  },
  {
   "cell_type": "code",
   "execution_count": 2,
   "id": "6cd6ee20-77b8-400b-9856-4d1c4a50f299",
   "metadata": {},
   "outputs": [],
   "source": [
    "df = pd.read_csv(\"prochoice_prolife.csv\")\n",
    "df.drop(df.index[6001:462417], inplace=True)"
   ]
  },
  {
   "cell_type": "code",
   "execution_count": 3,
   "id": "ffc4f910-95ac-4fb9-925a-79647e6ddb5b",
   "metadata": {},
   "outputs": [
    {
     "data": {
      "text/html": [
       "<div>\n",
       "<style scoped>\n",
       "    .dataframe tbody tr th:only-of-type {\n",
       "        vertical-align: middle;\n",
       "    }\n",
       "\n",
       "    .dataframe tbody tr th {\n",
       "        vertical-align: top;\n",
       "    }\n",
       "\n",
       "    .dataframe thead th {\n",
       "        text-align: right;\n",
       "    }\n",
       "</style>\n",
       "<table border=\"1\" class=\"dataframe\">\n",
       "  <thead>\n",
       "    <tr style=\"text-align: right;\">\n",
       "      <th></th>\n",
       "      <th>Unnamed: 0</th>\n",
       "      <th>author_id</th>\n",
       "      <th>author_name</th>\n",
       "      <th>author_username</th>\n",
       "      <th>created_at</th>\n",
       "      <th>id</th>\n",
       "      <th>public_metrics</th>\n",
       "      <th>text</th>\n",
       "      <th>retweet_count</th>\n",
       "      <th>like_count</th>\n",
       "      <th>target</th>\n",
       "    </tr>\n",
       "  </thead>\n",
       "  <tbody>\n",
       "    <tr>\n",
       "      <th>0</th>\n",
       "      <td>28588</td>\n",
       "      <td>73506221</td>\n",
       "      <td>Oregon Right to Life</td>\n",
       "      <td>OR_RTL</td>\n",
       "      <td>2022-06-23 00:00:06+00:00</td>\n",
       "      <td>1539760170900799490</td>\n",
       "      <td>{'retweet_count': 5, 'reply_count': 0, 'like_c...</td>\n",
       "      <td>We know that unsupported pregnancies can gener...</td>\n",
       "      <td>5</td>\n",
       "      <td>13</td>\n",
       "      <td>1</td>\n",
       "    </tr>\n",
       "    <tr>\n",
       "      <th>1</th>\n",
       "      <td>28587</td>\n",
       "      <td>96631851</td>\n",
       "      <td>αιяgσ*мαтι¢*σρтιχ</td>\n",
       "      <td>sacraficial</td>\n",
       "      <td>2022-06-23 00:01:14+00:00</td>\n",
       "      <td>1539760456977395712</td>\n",
       "      <td>{'retweet_count': 0, 'reply_count': 0, 'like_c...</td>\n",
       "      <td>If you are murdered by a George W. Bush weapon...</td>\n",
       "      <td>0</td>\n",
       "      <td>0</td>\n",
       "      <td>1</td>\n",
       "    </tr>\n",
       "    <tr>\n",
       "      <th>2</th>\n",
       "      <td>28586</td>\n",
       "      <td>3041829701</td>\n",
       "      <td>skb</td>\n",
       "      <td>skb37027</td>\n",
       "      <td>2022-06-23 00:04:30+00:00</td>\n",
       "      <td>1539761277702213633</td>\n",
       "      <td>{'retweet_count': 0, 'reply_count': 0, 'like_c...</td>\n",
       "      <td>.@MarshaBlackburn so much for #ProLife. https:...</td>\n",
       "      <td>0</td>\n",
       "      <td>0</td>\n",
       "      <td>1</td>\n",
       "    </tr>\n",
       "    <tr>\n",
       "      <th>3</th>\n",
       "      <td>28537</td>\n",
       "      <td>177260708</td>\n",
       "      <td>Right To Life League</td>\n",
       "      <td>Right2LifeLg</td>\n",
       "      <td>2022-06-23 00:09:50+00:00</td>\n",
       "      <td>1539762620055552001</td>\n",
       "      <td>{'retweet_count': 6, 'reply_count': 3, 'like_c...</td>\n",
       "      <td>Follow our instagram for more posts like this!...</td>\n",
       "      <td>6</td>\n",
       "      <td>19</td>\n",
       "      <td>1</td>\n",
       "    </tr>\n",
       "    <tr>\n",
       "      <th>4</th>\n",
       "      <td>27450</td>\n",
       "      <td>1523376591052582912</td>\n",
       "      <td>No Forced Birth</td>\n",
       "      <td>NoForcedBirth</td>\n",
       "      <td>2022-06-23 00:09:57+00:00</td>\n",
       "      <td>1539762647922421763</td>\n",
       "      <td>{'retweet_count': 0, 'reply_count': 0, 'like_c...</td>\n",
       "      <td>Another classy tweet from the forced birth cro...</td>\n",
       "      <td>0</td>\n",
       "      <td>1</td>\n",
       "      <td>0</td>\n",
       "    </tr>\n",
       "  </tbody>\n",
       "</table>\n",
       "</div>"
      ],
      "text/plain": [
       "   Unnamed: 0            author_id           author_name author_username  \\\n",
       "0       28588             73506221  Oregon Right to Life          OR_RTL   \n",
       "1       28587             96631851     αιяgσ*мαтι¢*σρтιχ     sacraficial   \n",
       "2       28586           3041829701                   skb        skb37027   \n",
       "3       28537            177260708  Right To Life League    Right2LifeLg   \n",
       "4       27450  1523376591052582912       No Forced Birth   NoForcedBirth   \n",
       "\n",
       "                  created_at                   id  \\\n",
       "0  2022-06-23 00:00:06+00:00  1539760170900799490   \n",
       "1  2022-06-23 00:01:14+00:00  1539760456977395712   \n",
       "2  2022-06-23 00:04:30+00:00  1539761277702213633   \n",
       "3  2022-06-23 00:09:50+00:00  1539762620055552001   \n",
       "4  2022-06-23 00:09:57+00:00  1539762647922421763   \n",
       "\n",
       "                                      public_metrics  \\\n",
       "0  {'retweet_count': 5, 'reply_count': 0, 'like_c...   \n",
       "1  {'retweet_count': 0, 'reply_count': 0, 'like_c...   \n",
       "2  {'retweet_count': 0, 'reply_count': 0, 'like_c...   \n",
       "3  {'retweet_count': 6, 'reply_count': 3, 'like_c...   \n",
       "4  {'retweet_count': 0, 'reply_count': 0, 'like_c...   \n",
       "\n",
       "                                                text  retweet_count  \\\n",
       "0  We know that unsupported pregnancies can gener...              5   \n",
       "1  If you are murdered by a George W. Bush weapon...              0   \n",
       "2  .@MarshaBlackburn so much for #ProLife. https:...              0   \n",
       "3  Follow our instagram for more posts like this!...              6   \n",
       "4  Another classy tweet from the forced birth cro...              0   \n",
       "\n",
       "   like_count  target  \n",
       "0          13       1  \n",
       "1           0       1  \n",
       "2           0       1  \n",
       "3          19       1  \n",
       "4           1       0  "
      ]
     },
     "execution_count": 3,
     "metadata": {},
     "output_type": "execute_result"
    }
   ],
   "source": [
    "df.head(5)"
   ]
  },
  {
   "cell_type": "markdown",
   "id": "87845b41-128e-44e0-abdc-fc205351a46c",
   "metadata": {},
   "source": [
    "## Supervised Learning\n"
   ]
  },
  {
   "cell_type": "markdown",
   "id": "8c763f25-7eb3-493f-8439-a868720bd6aa",
   "metadata": {},
   "source": [
    "#### Support Vector Classifier (SVM)\n",
    "Digunakan pada label kategorikal"
   ]
  },
  {
   "cell_type": "markdown",
   "id": "48e7a3ce-d5df-4359-886b-79f00b329623",
   "metadata": {},
   "source": [
    "Mengambil 2 fitur untuk Binary Classification"
   ]
  },
  {
   "cell_type": "code",
   "execution_count": 4,
   "id": "6539d8d3-14cc-4633-8ef7-748b3a23a8f5",
   "metadata": {},
   "outputs": [],
   "source": [
    "X = df[['id', 'like_count']]\n",
    "y = df['author_name']"
   ]
  },
  {
   "cell_type": "markdown",
   "id": "99063c37-a860-4946-a9df-eba669501aa1",
   "metadata": {},
   "source": [
    "Membagi Objek classifier SVM"
   ]
  },
  {
   "cell_type": "code",
   "execution_count": 5,
   "id": "1a295bcf-f8da-49d0-ae1a-db19f5433b2e",
   "metadata": {},
   "outputs": [],
   "source": [
    "y = np.where(y == 'skb', 1, -1)"
   ]
  },
  {
   "cell_type": "markdown",
   "id": "928e4c0c-b11e-41b4-a246-ff24b472433a",
   "metadata": {},
   "source": [
    "Membagi data (split) ke train set dan test set "
   ]
  },
  {
   "cell_type": "code",
   "execution_count": 6,
   "id": "3b18e7ad-6b04-4b04-ba4b-450e343d17cc",
   "metadata": {},
   "outputs": [],
   "source": [
    "X_train, X_test, y_train, y_test = train_test_split(X, y, test_size=0.3, random_state=42)"
   ]
  },
  {
   "cell_type": "markdown",
   "id": "105bdf36-f5a1-4504-81b4-da9fd153dbb4",
   "metadata": {},
   "source": [
    "Membuat objek classifier SVM "
   ]
  },
  {
   "cell_type": "code",
   "execution_count": 7,
   "id": "3c679629-d9fe-4cde-98fc-3a133e461687",
   "metadata": {},
   "outputs": [],
   "source": [
    "svm = SVC(kernel=\"rbf\")"
   ]
  },
  {
   "cell_type": "markdown",
   "id": "38a64c7e-424f-4f46-9b77-3f1451e7a45f",
   "metadata": {},
   "source": [
    "Melatih classifier dengan data train "
   ]
  },
  {
   "cell_type": "code",
   "execution_count": 8,
   "id": "1ba3f831-671d-4e8f-bd04-0bc633e16c5a",
   "metadata": {},
   "outputs": [
    {
     "data": {
      "text/html": [
       "<style>#sk-container-id-1 {color: black;}#sk-container-id-1 pre{padding: 0;}#sk-container-id-1 div.sk-toggleable {background-color: white;}#sk-container-id-1 label.sk-toggleable__label {cursor: pointer;display: block;width: 100%;margin-bottom: 0;padding: 0.3em;box-sizing: border-box;text-align: center;}#sk-container-id-1 label.sk-toggleable__label-arrow:before {content: \"▸\";float: left;margin-right: 0.25em;color: #696969;}#sk-container-id-1 label.sk-toggleable__label-arrow:hover:before {color: black;}#sk-container-id-1 div.sk-estimator:hover label.sk-toggleable__label-arrow:before {color: black;}#sk-container-id-1 div.sk-toggleable__content {max-height: 0;max-width: 0;overflow: hidden;text-align: left;background-color: #f0f8ff;}#sk-container-id-1 div.sk-toggleable__content pre {margin: 0.2em;color: black;border-radius: 0.25em;background-color: #f0f8ff;}#sk-container-id-1 input.sk-toggleable__control:checked~div.sk-toggleable__content {max-height: 200px;max-width: 100%;overflow: auto;}#sk-container-id-1 input.sk-toggleable__control:checked~label.sk-toggleable__label-arrow:before {content: \"▾\";}#sk-container-id-1 div.sk-estimator input.sk-toggleable__control:checked~label.sk-toggleable__label {background-color: #d4ebff;}#sk-container-id-1 div.sk-label input.sk-toggleable__control:checked~label.sk-toggleable__label {background-color: #d4ebff;}#sk-container-id-1 input.sk-hidden--visually {border: 0;clip: rect(1px 1px 1px 1px);clip: rect(1px, 1px, 1px, 1px);height: 1px;margin: -1px;overflow: hidden;padding: 0;position: absolute;width: 1px;}#sk-container-id-1 div.sk-estimator {font-family: monospace;background-color: #f0f8ff;border: 1px dotted black;border-radius: 0.25em;box-sizing: border-box;margin-bottom: 0.5em;}#sk-container-id-1 div.sk-estimator:hover {background-color: #d4ebff;}#sk-container-id-1 div.sk-parallel-item::after {content: \"\";width: 100%;border-bottom: 1px solid gray;flex-grow: 1;}#sk-container-id-1 div.sk-label:hover label.sk-toggleable__label {background-color: #d4ebff;}#sk-container-id-1 div.sk-serial::before {content: \"\";position: absolute;border-left: 1px solid gray;box-sizing: border-box;top: 0;bottom: 0;left: 50%;z-index: 0;}#sk-container-id-1 div.sk-serial {display: flex;flex-direction: column;align-items: center;background-color: white;padding-right: 0.2em;padding-left: 0.2em;position: relative;}#sk-container-id-1 div.sk-item {position: relative;z-index: 1;}#sk-container-id-1 div.sk-parallel {display: flex;align-items: stretch;justify-content: center;background-color: white;position: relative;}#sk-container-id-1 div.sk-item::before, #sk-container-id-1 div.sk-parallel-item::before {content: \"\";position: absolute;border-left: 1px solid gray;box-sizing: border-box;top: 0;bottom: 0;left: 50%;z-index: -1;}#sk-container-id-1 div.sk-parallel-item {display: flex;flex-direction: column;z-index: 1;position: relative;background-color: white;}#sk-container-id-1 div.sk-parallel-item:first-child::after {align-self: flex-end;width: 50%;}#sk-container-id-1 div.sk-parallel-item:last-child::after {align-self: flex-start;width: 50%;}#sk-container-id-1 div.sk-parallel-item:only-child::after {width: 0;}#sk-container-id-1 div.sk-dashed-wrapped {border: 1px dashed gray;margin: 0 0.4em 0.5em 0.4em;box-sizing: border-box;padding-bottom: 0.4em;background-color: white;}#sk-container-id-1 div.sk-label label {font-family: monospace;font-weight: bold;display: inline-block;line-height: 1.2em;}#sk-container-id-1 div.sk-label-container {text-align: center;}#sk-container-id-1 div.sk-container {/* jupyter's `normalize.less` sets `[hidden] { display: none; }` but bootstrap.min.css set `[hidden] { display: none !important; }` so we also need the `!important` here to be able to override the default hidden behavior on the sphinx rendered scikit-learn.org. See: https://github.com/scikit-learn/scikit-learn/issues/21755 */display: inline-block !important;position: relative;}#sk-container-id-1 div.sk-text-repr-fallback {display: none;}</style><div id=\"sk-container-id-1\" class=\"sk-top-container\"><div class=\"sk-text-repr-fallback\"><pre>SVC()</pre><b>In a Jupyter environment, please rerun this cell to show the HTML representation or trust the notebook. <br />On GitHub, the HTML representation is unable to render, please try loading this page with nbviewer.org.</b></div><div class=\"sk-container\" hidden><div class=\"sk-item\"><div class=\"sk-estimator sk-toggleable\"><input class=\"sk-toggleable__control sk-hidden--visually\" id=\"sk-estimator-id-1\" type=\"checkbox\" checked><label for=\"sk-estimator-id-1\" class=\"sk-toggleable__label sk-toggleable__label-arrow\">SVC</label><div class=\"sk-toggleable__content\"><pre>SVC()</pre></div></div></div></div></div>"
      ],
      "text/plain": [
       "SVC()"
      ]
     },
     "execution_count": 8,
     "metadata": {},
     "output_type": "execute_result"
    }
   ],
   "source": [
    "svm.fit(X_train, y_train)"
   ]
  },
  {
   "cell_type": "code",
   "execution_count": 9,
   "id": "f99954a0-a28f-4aef-9dd8-630a2342b5be",
   "metadata": {},
   "outputs": [],
   "source": [
    "y_pred = svm.predict(X_test)"
   ]
  },
  {
   "cell_type": "markdown",
   "id": "e727c5d5-e801-4eda-9379-9357989fff4d",
   "metadata": {},
   "source": [
    "Menyimpan nilai support vectors dan indeksnya"
   ]
  },
  {
   "cell_type": "code",
   "execution_count": 10,
   "id": "8147d0bb-f74e-402d-b90f-89be276c557d",
   "metadata": {},
   "outputs": [],
   "source": [
    "support_vectors = svm.support_vectors_\n",
    "support_vector_indices = np.where(np.isin(X_train, support_vectors).all(axis=1))"
   ]
  },
  {
   "cell_type": "markdown",
   "id": "780f2918-29b2-4a82-911a-67c33f315163",
   "metadata": {},
   "source": [
    "Plotting menggunakan scatter dari Seaborn dan menampilkan titik titik support vector, lalu membuat garis decision boundary, meshgrid untuk evaluasi model, grafik decision boundary dan garis margin serta menambahkan label dan legenda"
   ]
  },
  {
   "cell_type": "code",
   "execution_count": null,
   "id": "68851e91-04da-472a-a6ab-05edd1908890",
   "metadata": {},
   "outputs": [
    {
     "name": "stderr",
     "output_type": "stream",
     "text": [
      "C:\\Users\\hp\\OneDrive\\Dokumen\\venv_C1_21\\Ramdan_116\\lib\\site-packages\\sklearn\\base.py:465: UserWarning: X does not have valid feature names, but SVC was fitted with feature names\n",
      "  warnings.warn(\n"
     ]
    }
   ],
   "source": [
    "sns.scatterplot(x='id', y='like_count', hue='author_name', data=df)\n",
    "plt.scatter(support_vectors[:, 0], support_vectors[:, 1], s=40, color='cyan', marker='+', label='Support Vectors')\n",
    "ax = plt.gca()\n",
    "xlim = ax.get_xlim()\n",
    "ylim = ax.get_ylim()\n",
    "xx, yy = np.meshgrid(np.linspace(xlim[0], xlim[1]), np.linspace(ylim[0], ylim[1]))\n",
    "Z = svm.decision_function(np.c_[xx.ravel(), yy.ravel()])\n",
    "Z = Z.reshape(xx.shape)\n",
    "ax.contour(xx, yy, Z, colors='k', levels=[-1, 0, 1], alpha=0.5,\n",
    "linestyles=['--', '-', '--'])\n",
    "plt.xlabel('id')\n",
    "plt.ylabel('like_count')\n",
    "plt.legend(loc='lower right')\n",
    "plt.title('SVM dengan Support Vectors')\n",
    "plt.show()"
   ]
  },
  {
   "cell_type": "code",
   "execution_count": null,
   "id": "2e89d86a-7425-443b-81fa-71bcbf842b1a",
   "metadata": {},
   "outputs": [],
   "source": [
    "report = classification_report(y_test, y_pred)\n",
    "print(report)"
   ]
  },
  {
   "cell_type": "markdown",
   "id": "67a6f2dc-715e-4a18-92ed-28f888851304",
   "metadata": {},
   "source": [
    "### Linear Regression "
   ]
  },
  {
   "cell_type": "markdown",
   "id": "48ef41b1-2b84-49c8-8e43-ac9e00c6ffd6",
   "metadata": {},
   "source": [
    "Memisahkan fitur dan target dari dataset "
   ]
  },
  {
   "cell_type": "code",
   "execution_count": null,
   "id": "8f89b0af-9d86-40b5-bd55-b29565f93d3d",
   "metadata": {},
   "outputs": [],
   "source": [
    "X, y = df[['id']], df['like_count']"
   ]
  },
  {
   "cell_type": "markdown",
   "id": "7aa60f21-9b6e-4c94-90fc-70d0d5939174",
   "metadata": {},
   "source": [
    "Membagi data fitur dan target menjadi data training "
   ]
  },
  {
   "cell_type": "code",
   "execution_count": null,
   "id": "952df0cb-826f-44c0-b4e4-19f11bf0b673",
   "metadata": {},
   "outputs": [],
   "source": [
    "X_train, X_test, y_train, y_test = train_test_split(X, y, test_size=0.2, random_state=31)"
   ]
  },
  {
   "cell_type": "markdown",
   "id": "f316d2bc-41b8-49ad-9f7a-1de1b86c335b",
   "metadata": {},
   "source": [
    "Membuat model regresi linear, melatih model dengan data training dan menggunakan model untuk membuat prediksi pada data test\n"
   ]
  },
  {
   "cell_type": "code",
   "execution_count": null,
   "id": "4b822250-68bf-40a8-8267-01f0afe1e370",
   "metadata": {},
   "outputs": [],
   "source": [
    "reg = LinearRegression()\n",
    "reg.fit(X_train, y_train)\n",
    "\n",
    "y_pred = reg.predict(X_test)"
   ]
  },
  {
   "cell_type": "markdown",
   "id": "45b62a4a-15ce-4068-ab80-00690d915cc4",
   "metadata": {},
   "source": [
    "Visualisasi hasil prediksi regresi linear pada data test yang membandingkan prediksi (garis biru) dengan data asli (titik hitam) untuk melihat sejauh mana model cocok dengan data aktual"
   ]
  },
  {
   "cell_type": "code",
   "execution_count": null,
   "id": "698d0e94-bf50-4048-8cee-569ed8e04fec",
   "metadata": {},
   "outputs": [],
   "source": [
    "plt.figure(figsize=(10,8))\n",
    "plt.plot(X_test, y_pred, c='blue', linewidth=3)\n",
    "plt.scatter(X_test, y_test, c='Black')\n",
    "plt.xlabel(\"id\")\n",
    "plt.ylabel(\"like_count\")\n",
    "plt.show()"
   ]
  },
  {
   "cell_type": "markdown",
   "id": "903b501a-8634-4332-9b95-1c7280f46292",
   "metadata": {},
   "source": [
    "Membuat objek classifier SVM\n"
   ]
  },
  {
   "cell_type": "code",
   "execution_count": null,
   "id": "74d4b504-406c-4bef-8ecc-7d08e61d5660",
   "metadata": {},
   "outputs": [],
   "source": [
    "svm = SVC(kernel=\"linear\")\n",
    "svm.fit(X, y)"
   ]
  },
  {
   "cell_type": "markdown",
   "id": "0a68f7f3-f882-4088-85f1-d2ba606ec0b0",
   "metadata": {},
   "source": [
    "melakukan prediksi data test dengan model dan menampilkan hasil\n"
   ]
  },
  {
   "cell_type": "code",
   "execution_count": null,
   "id": "9b94d7c4-b03e-42f1-93fd-73508821880f",
   "metadata": {},
   "outputs": [],
   "source": [
    "y_pred = svm.predict(X_test)\n",
    "print(\"MAE :\", mean_absolute_error(y_test, y_pred))\n",
    "print(\"MSE :\", mean_squared_error(y_test, y_pred))\n",
    "print(\"RMSE :\", np.sqrt(mean_squared_error(y_test, y_pred)))\n",
    "print(\"R-Squared :\", r2_score(y_test, y_pred))"
   ]
  },
  {
   "cell_type": "markdown",
   "id": "14165346-ef6b-4061-bcc9-df24e0d28bb1",
   "metadata": {},
   "source": [
    "## Unsupervised Learning\n"
   ]
  },
  {
   "cell_type": "markdown",
   "id": "5cd4124d-9595-4ac9-979b-86aa396983de",
   "metadata": {},
   "source": [
    "### K-Means\n"
   ]
  },
  {
   "cell_type": "markdown",
   "id": "de7228f0-6b81-49ab-97de-206241e9f719",
   "metadata": {},
   "source": [
    "Menggunakan fitur X dan menentukan banyaknya kelompok\n"
   ]
  },
  {
   "cell_type": "code",
   "execution_count": null,
   "id": "f21301d5-bdc6-4a50-aa70-ee72a7de70ed",
   "metadata": {},
   "outputs": [],
   "source": [
    "X = df[[\"id\", \"like_count\"]]\n",
    "K = 2"
   ]
  },
  {
   "cell_type": "markdown",
   "id": "9ed578a8-4da3-4e05-aa3a-9c37d7096d58",
   "metadata": {},
   "source": [
    "Inisialisasi K-Means dan melatih model K-Means berdasarkan data X\n"
   ]
  },
  {
   "cell_type": "code",
   "execution_count": null,
   "id": "9a2b5b80-753a-44c4-b58a-5c83fb3409f7",
   "metadata": {},
   "outputs": [],
   "source": [
    "kmeans = KMeans(n_clusters=K, n_init=10)\n",
    "kmeans.fit(X)"
   ]
  },
  {
   "cell_type": "markdown",
   "id": "125163be-8284-4e49-8fcb-08080877a5b9",
   "metadata": {},
   "source": [
    "Membuat label kelompok dari model dan tambah kolom prediksi serta titik pusat kelompok dari model\n"
   ]
  },
  {
   "cell_type": "code",
   "execution_count": null,
   "id": "5b76d405-8ee9-4b20-b817-18ca1314e34d",
   "metadata": {},
   "outputs": [],
   "source": [
    "cluster_labels = kmeans.labels_\n",
    "df[\"cluster\"] = cluster_labels\n",
    "centroids = kmeans.cluster_centers_"
   ]
  },
  {
   "cell_type": "code",
   "execution_count": null,
   "id": "045f714e-d212-4f2a-81b9-dcaea393e16c",
   "metadata": {},
   "outputs": [],
   "source": [
    "plt.scatter(centroids[:, 0], centroids[:, 1], alpha=0.5, c='black', s=100, label='Centroids')\n",
    "sns.scatterplot(data=df, x=\"id\", y=\"like_count\", hue=\"cluster\", palette=[\"red\", \"green\"])\n",
    "plt.title(f\"K-Means Clustering (K={K}) dengan Centroids\")\n",
    "plt.xlabel(\"id\")\n",
    "plt.ylabel(\"like_count\")\n",
    "plt.legend()\n",
    "plt.show()"
   ]
  },
  {
   "cell_type": "markdown",
   "id": "4af13160-bcc1-4493-93d1-7a2b7ec830f4",
   "metadata": {},
   "source": [
    "Membuat crosstab untuk membandingkan cluster labels dengan true labels\n"
   ]
  },
  {
   "cell_type": "code",
   "execution_count": null,
   "id": "9bd788c4-1879-49d4-a9be-91aabfb948a2",
   "metadata": {},
   "outputs": [],
   "source": [
    "cross_tab = pd.crosstab(df[\"cluster\"], df[\"author_name\"])\n",
    "print(\"Cross-Tabulation:\")\n",
    "print(cross_tab, \"\\n\")"
   ]
  },
  {
   "cell_type": "markdown",
   "id": "e974669c-6fbe-4853-91e7-6e3bee07be12",
   "metadata": {},
   "source": [
    "Menghitung dan mencetak nilai \"Adjusted Rand Index (ARI)\" yang mengukur sejauh mana clustering dengan algoritma K-Means\n"
   ]
  },
  {
   "cell_type": "code",
   "execution_count": null,
   "id": "660492b1-b7ed-4218-a18f-4b9d09166b83",
   "metadata": {},
   "outputs": [],
   "source": [
    "ari = adjusted_rand_score(df[\"author_name\"], cluster_labels)\n",
    "print(f\"Adjusted Rand Index (ARI): {ari:.2f}\")"
   ]
  },
  {
   "cell_type": "markdown",
   "id": "9ef57cb8-489e-4d83-a258-c7a1957bc131",
   "metadata": {},
   "source": [
    "Menghitung dan mencetak nilai \"Normalized Mutual Information (NMI)\" untuk mengevaluasi sejauh mana hasil clustering dengan algoritma K-Means\n"
   ]
  },
  {
   "cell_type": "code",
   "execution_count": null,
   "id": "fdc968b7-02fb-4db5-a7fc-826a59f86549",
   "metadata": {},
   "outputs": [],
   "source": [
    "true_labels_num = df[\"author_name\"].astype(\"category\").cat.codes\n",
    "nmi = normalized_mutual_info_score(true_labels_num, cluster_labels)\n",
    "print(f\"Normalized Mutual Information (NMI): {nmi:.2f}\")"
   ]
  },
  {
   "cell_type": "markdown",
   "id": "0db5691a-9079-439b-8c9e-f0c423c9ab4e",
   "metadata": {},
   "source": [
    "Homogeneity, Completeness dan V-Measure membantu mengukur sejauh mana hasil klustering sesuai dengan label asli data dan seberapa baik klustering tersebut dalam mengelompokkan data"
   ]
  },
  {
   "cell_type": "code",
   "execution_count": null,
   "id": "de4fd087-8a55-44fd-8a7b-a3ad5fcde0a6",
   "metadata": {},
   "outputs": [],
   "source": [
    "homogeneity = homogeneity_score(df[\"author_name\"], cluster_labels)\n",
    "completeness = completeness_score(df[\"author_name\"], cluster_labels)\n",
    "v_measure = v_measure_score(df[\"author_name\"], cluster_labels)\n",
    "print(f\"Homogeneity Score: {homogeneity:.2f}\")\n",
    "print(f\"Completeness Score: {completeness:.2f}\")\n",
    "print(f\"V-Measure Score: {v_measure:.2f}\")"
   ]
  },
  {
   "cell_type": "code",
   "execution_count": null,
   "id": "b532fa74-966e-4f91-9b6c-ce354ad4930a",
   "metadata": {},
   "outputs": [],
   "source": []
  }
 ],
 "metadata": {
  "kernelspec": {
   "display_name": "Python 3 (ipykernel)",
   "language": "python",
   "name": "python3"
  },
  "language_info": {
   "codemirror_mode": {
    "name": "ipython",
    "version": 3
   },
   "file_extension": ".py",
   "mimetype": "text/x-python",
   "name": "python",
   "nbconvert_exporter": "python",
   "pygments_lexer": "ipython3",
   "version": "3.10.7"
  }
 },
 "nbformat": 4,
 "nbformat_minor": 5
}
