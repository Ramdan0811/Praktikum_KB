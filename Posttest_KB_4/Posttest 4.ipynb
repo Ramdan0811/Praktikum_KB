{
 "cells": [
  {
   "cell_type": "markdown",
   "id": "3ff28a6d-14a1-4aa8-bc0d-f0f93ff89844",
   "metadata": {},
   "source": [
    "## Posttest 4 \n",
    "Nama : Rahmad Ramadhan"
   ]
  },
  {
   "cell_type": "markdown",
   "id": "f739c22e-a90a-4b74-add8-9da48b92ae0e",
   "metadata": {},
   "source": [
    "NIM : 2109106116\n"
   ]
  },
  {
   "cell_type": "markdown",
   "id": "dfbbcf9b-8167-4ad2-85b9-4fb6dc214416",
   "metadata": {},
   "source": [
    "Informatika C1_21"
   ]
  },
  {
   "cell_type": "code",
   "execution_count": 1,
   "id": "ea45294f-44c6-4019-a103-94ab466b286e",
   "metadata": {},
   "outputs": [],
   "source": [
    "import numpy as np\n",
    "import pandas as pd\n",
    "from sklearn.preprocessing import MinMaxScaler, StandardScaler, OneHotEncoder\n",
    "from sklearn.model_selection import train_test_split\n",
    "from sklearn.impute import SimpleImputer"
   ]
  },
  {
   "cell_type": "markdown",
   "id": "fb845dcf-1803-4b19-aaaf-cd4603859dd8",
   "metadata": {},
   "source": [
    "## Informasi Data"
   ]
  },
  {
   "cell_type": "code",
   "execution_count": 2,
   "id": "ab18c65a-7ce6-48f7-ab65-623b3c8263dc",
   "metadata": {},
   "outputs": [
    {
     "data": {
      "text/html": [
       "<div>\n",
       "<style scoped>\n",
       "    .dataframe tbody tr th:only-of-type {\n",
       "        vertical-align: middle;\n",
       "    }\n",
       "\n",
       "    .dataframe tbody tr th {\n",
       "        vertical-align: top;\n",
       "    }\n",
       "\n",
       "    .dataframe thead th {\n",
       "        text-align: right;\n",
       "    }\n",
       "</style>\n",
       "<table border=\"1\" class=\"dataframe\">\n",
       "  <thead>\n",
       "    <tr style=\"text-align: right;\">\n",
       "      <th></th>\n",
       "      <th>Unnamed: 0</th>\n",
       "      <th>author_id</th>\n",
       "      <th>author_name</th>\n",
       "      <th>author_username</th>\n",
       "      <th>created_at</th>\n",
       "      <th>id</th>\n",
       "      <th>public_metrics</th>\n",
       "      <th>text</th>\n",
       "      <th>retweet_count</th>\n",
       "      <th>like_count</th>\n",
       "      <th>target</th>\n",
       "    </tr>\n",
       "  </thead>\n",
       "  <tbody>\n",
       "    <tr>\n",
       "      <th>0</th>\n",
       "      <td>28588</td>\n",
       "      <td>73506221</td>\n",
       "      <td>Oregon Right to Life</td>\n",
       "      <td>OR_RTL</td>\n",
       "      <td>2022-06-23 00:00:06+00:00</td>\n",
       "      <td>1539760170900799490</td>\n",
       "      <td>{'retweet_count': 5, 'reply_count': 0, 'like_c...</td>\n",
       "      <td>We know that unsupported pregnancies can gener...</td>\n",
       "      <td>5</td>\n",
       "      <td>13</td>\n",
       "      <td>1</td>\n",
       "    </tr>\n",
       "    <tr>\n",
       "      <th>1</th>\n",
       "      <td>28587</td>\n",
       "      <td>96631851</td>\n",
       "      <td>αιяgσ*мαтι¢*σρтιχ</td>\n",
       "      <td>sacraficial</td>\n",
       "      <td>2022-06-23 00:01:14+00:00</td>\n",
       "      <td>1539760456977395712</td>\n",
       "      <td>{'retweet_count': 0, 'reply_count': 0, 'like_c...</td>\n",
       "      <td>If you are murdered by a George W. Bush weapon...</td>\n",
       "      <td>0</td>\n",
       "      <td>0</td>\n",
       "      <td>1</td>\n",
       "    </tr>\n",
       "    <tr>\n",
       "      <th>2</th>\n",
       "      <td>28586</td>\n",
       "      <td>3041829701</td>\n",
       "      <td>skb</td>\n",
       "      <td>skb37027</td>\n",
       "      <td>2022-06-23 00:04:30+00:00</td>\n",
       "      <td>1539761277702213633</td>\n",
       "      <td>{'retweet_count': 0, 'reply_count': 0, 'like_c...</td>\n",
       "      <td>.@MarshaBlackburn so much for #ProLife. https:...</td>\n",
       "      <td>0</td>\n",
       "      <td>0</td>\n",
       "      <td>1</td>\n",
       "    </tr>\n",
       "    <tr>\n",
       "      <th>3</th>\n",
       "      <td>28537</td>\n",
       "      <td>177260708</td>\n",
       "      <td>Right To Life League</td>\n",
       "      <td>Right2LifeLg</td>\n",
       "      <td>2022-06-23 00:09:50+00:00</td>\n",
       "      <td>1539762620055552001</td>\n",
       "      <td>{'retweet_count': 6, 'reply_count': 3, 'like_c...</td>\n",
       "      <td>Follow our instagram for more posts like this!...</td>\n",
       "      <td>6</td>\n",
       "      <td>19</td>\n",
       "      <td>1</td>\n",
       "    </tr>\n",
       "    <tr>\n",
       "      <th>4</th>\n",
       "      <td>27450</td>\n",
       "      <td>1523376591052582912</td>\n",
       "      <td>No Forced Birth</td>\n",
       "      <td>NoForcedBirth</td>\n",
       "      <td>2022-06-23 00:09:57+00:00</td>\n",
       "      <td>1539762647922421763</td>\n",
       "      <td>{'retweet_count': 0, 'reply_count': 0, 'like_c...</td>\n",
       "      <td>Another classy tweet from the forced birth cro...</td>\n",
       "      <td>0</td>\n",
       "      <td>1</td>\n",
       "      <td>0</td>\n",
       "    </tr>\n",
       "    <tr>\n",
       "      <th>...</th>\n",
       "      <td>...</td>\n",
       "      <td>...</td>\n",
       "      <td>...</td>\n",
       "      <td>...</td>\n",
       "      <td>...</td>\n",
       "      <td>...</td>\n",
       "      <td>...</td>\n",
       "      <td>...</td>\n",
       "      <td>...</td>\n",
       "      <td>...</td>\n",
       "      <td>...</td>\n",
       "    </tr>\n",
       "    <tr>\n",
       "      <th>56035</th>\n",
       "      <td>1</td>\n",
       "      <td>1422930280810270731</td>\n",
       "      <td>WV116</td>\n",
       "      <td>WV116_G16</td>\n",
       "      <td>2022-07-03 23:57:19+00:00</td>\n",
       "      <td>1543745736587837441</td>\n",
       "      <td>{'retweet_count': 1, 'reply_count': 1, 'like_c...</td>\n",
       "      <td>Next June is going to be more fun #ProLife htt...</td>\n",
       "      <td>1</td>\n",
       "      <td>3</td>\n",
       "      <td>1</td>\n",
       "    </tr>\n",
       "    <tr>\n",
       "      <th>56036</th>\n",
       "      <td>0</td>\n",
       "      <td>997036813</td>\n",
       "      <td>Believe in the Promise</td>\n",
       "      <td>Christ_isLight</td>\n",
       "      <td>2022-07-03 23:57:37+00:00</td>\n",
       "      <td>1543745810696847360</td>\n",
       "      <td>{'retweet_count': 0, 'reply_count': 1, 'like_c...</td>\n",
       "      <td>@Hammock_Thomas @MariaLaoise I'm alarmed to he...</td>\n",
       "      <td>0</td>\n",
       "      <td>1</td>\n",
       "      <td>1</td>\n",
       "    </tr>\n",
       "    <tr>\n",
       "      <th>56037</th>\n",
       "      <td>2</td>\n",
       "      <td>934204973553815552</td>\n",
       "      <td>Hunted The Amiba</td>\n",
       "      <td>videodweller4</td>\n",
       "      <td>2022-07-03 23:57:58+00:00</td>\n",
       "      <td>1543745898068336640</td>\n",
       "      <td>{'retweet_count': 0, 'reply_count': 0, 'like_c...</td>\n",
       "      <td>At a #WomensRights and #prochoice rally https:...</td>\n",
       "      <td>0</td>\n",
       "      <td>0</td>\n",
       "      <td>0</td>\n",
       "    </tr>\n",
       "    <tr>\n",
       "      <th>56038</th>\n",
       "      <td>1</td>\n",
       "      <td>436733030</td>\n",
       "      <td>Benoit 🇦🇲 ن</td>\n",
       "      <td>8enoit</td>\n",
       "      <td>2022-07-03 23:58:20+00:00</td>\n",
       "      <td>1543745992876515328</td>\n",
       "      <td>{'retweet_count': 2, 'reply_count': 0, 'like_c...</td>\n",
       "      <td>Je refuse leur vaccin expérimental. \\n#monCorp...</td>\n",
       "      <td>2</td>\n",
       "      <td>4</td>\n",
       "      <td>0</td>\n",
       "    </tr>\n",
       "    <tr>\n",
       "      <th>56039</th>\n",
       "      <td>0</td>\n",
       "      <td>119658038</td>\n",
       "      <td>Greg Williamson 💉💉💉 💉</td>\n",
       "      <td>The_Scrutiniser</td>\n",
       "      <td>2022-07-03 23:59:36+00:00</td>\n",
       "      <td>1543746310473322496</td>\n",
       "      <td>{'retweet_count': 1, 'reply_count': 0, 'like_c...</td>\n",
       "      <td>#prochoice https://t.co/TymBKe6sT1</td>\n",
       "      <td>1</td>\n",
       "      <td>4</td>\n",
       "      <td>0</td>\n",
       "    </tr>\n",
       "  </tbody>\n",
       "</table>\n",
       "<p>56040 rows × 11 columns</p>\n",
       "</div>"
      ],
      "text/plain": [
       "       Unnamed: 0            author_id             author_name  \\\n",
       "0           28588             73506221    Oregon Right to Life   \n",
       "1           28587             96631851       αιяgσ*мαтι¢*σρтιχ   \n",
       "2           28586           3041829701                     skb   \n",
       "3           28537            177260708    Right To Life League   \n",
       "4           27450  1523376591052582912         No Forced Birth   \n",
       "...           ...                  ...                     ...   \n",
       "56035           1  1422930280810270731                   WV116   \n",
       "56036           0            997036813  Believe in the Promise   \n",
       "56037           2   934204973553815552        Hunted The Amiba   \n",
       "56038           1            436733030             Benoit 🇦🇲 ن   \n",
       "56039           0            119658038   Greg Williamson 💉💉💉 💉   \n",
       "\n",
       "       author_username                 created_at                   id  \\\n",
       "0               OR_RTL  2022-06-23 00:00:06+00:00  1539760170900799490   \n",
       "1          sacraficial  2022-06-23 00:01:14+00:00  1539760456977395712   \n",
       "2             skb37027  2022-06-23 00:04:30+00:00  1539761277702213633   \n",
       "3         Right2LifeLg  2022-06-23 00:09:50+00:00  1539762620055552001   \n",
       "4        NoForcedBirth  2022-06-23 00:09:57+00:00  1539762647922421763   \n",
       "...                ...                        ...                  ...   \n",
       "56035        WV116_G16  2022-07-03 23:57:19+00:00  1543745736587837441   \n",
       "56036   Christ_isLight  2022-07-03 23:57:37+00:00  1543745810696847360   \n",
       "56037    videodweller4  2022-07-03 23:57:58+00:00  1543745898068336640   \n",
       "56038           8enoit  2022-07-03 23:58:20+00:00  1543745992876515328   \n",
       "56039  The_Scrutiniser  2022-07-03 23:59:36+00:00  1543746310473322496   \n",
       "\n",
       "                                          public_metrics  \\\n",
       "0      {'retweet_count': 5, 'reply_count': 0, 'like_c...   \n",
       "1      {'retweet_count': 0, 'reply_count': 0, 'like_c...   \n",
       "2      {'retweet_count': 0, 'reply_count': 0, 'like_c...   \n",
       "3      {'retweet_count': 6, 'reply_count': 3, 'like_c...   \n",
       "4      {'retweet_count': 0, 'reply_count': 0, 'like_c...   \n",
       "...                                                  ...   \n",
       "56035  {'retweet_count': 1, 'reply_count': 1, 'like_c...   \n",
       "56036  {'retweet_count': 0, 'reply_count': 1, 'like_c...   \n",
       "56037  {'retweet_count': 0, 'reply_count': 0, 'like_c...   \n",
       "56038  {'retweet_count': 2, 'reply_count': 0, 'like_c...   \n",
       "56039  {'retweet_count': 1, 'reply_count': 0, 'like_c...   \n",
       "\n",
       "                                                    text  retweet_count  \\\n",
       "0      We know that unsupported pregnancies can gener...              5   \n",
       "1      If you are murdered by a George W. Bush weapon...              0   \n",
       "2      .@MarshaBlackburn so much for #ProLife. https:...              0   \n",
       "3      Follow our instagram for more posts like this!...              6   \n",
       "4      Another classy tweet from the forced birth cro...              0   \n",
       "...                                                  ...            ...   \n",
       "56035  Next June is going to be more fun #ProLife htt...              1   \n",
       "56036  @Hammock_Thomas @MariaLaoise I'm alarmed to he...              0   \n",
       "56037  At a #WomensRights and #prochoice rally https:...              0   \n",
       "56038  Je refuse leur vaccin expérimental. \\n#monCorp...              2   \n",
       "56039                 #prochoice https://t.co/TymBKe6sT1              1   \n",
       "\n",
       "       like_count  target  \n",
       "0              13       1  \n",
       "1               0       1  \n",
       "2               0       1  \n",
       "3              19       1  \n",
       "4               1       0  \n",
       "...           ...     ...  \n",
       "56035           3       1  \n",
       "56036           1       1  \n",
       "56037           0       0  \n",
       "56038           4       0  \n",
       "56039           4       0  \n",
       "\n",
       "[56040 rows x 11 columns]"
      ]
     },
     "execution_count": 2,
     "metadata": {},
     "output_type": "execute_result"
    }
   ],
   "source": [
    "df = pd.read_csv('prochoice_prolife.csv')\n",
    "df"
   ]
  },
  {
   "cell_type": "code",
   "execution_count": 3,
   "id": "d89dfd59-4c66-4e76-b0fe-124e943c3dfd",
   "metadata": {},
   "outputs": [
    {
     "name": "stdout",
     "output_type": "stream",
     "text": [
      "<class 'pandas.core.frame.DataFrame'>\n",
      "RangeIndex: 56040 entries, 0 to 56039\n",
      "Data columns (total 11 columns):\n",
      " #   Column           Non-Null Count  Dtype \n",
      "---  ------           --------------  ----- \n",
      " 0   Unnamed: 0       56040 non-null  int64 \n",
      " 1   author_id        56040 non-null  int64 \n",
      " 2   author_name      56031 non-null  object\n",
      " 3   author_username  56040 non-null  object\n",
      " 4   created_at       56040 non-null  object\n",
      " 5   id               56040 non-null  int64 \n",
      " 6   public_metrics   56040 non-null  object\n",
      " 7   text             56040 non-null  object\n",
      " 8   retweet_count    56040 non-null  int64 \n",
      " 9   like_count       56040 non-null  int64 \n",
      " 10  target           56040 non-null  int64 \n",
      "dtypes: int64(6), object(5)\n",
      "memory usage: 4.7+ MB\n"
     ]
    }
   ],
   "source": [
    "df.info()"
   ]
  },
  {
   "cell_type": "code",
   "execution_count": 4,
   "id": "6999d0dd-c8ad-44d5-820d-4846bb8a7d75",
   "metadata": {},
   "outputs": [
    {
     "data": {
      "text/plain": [
       "(56040, 11)"
      ]
     },
     "execution_count": 4,
     "metadata": {},
     "output_type": "execute_result"
    }
   ],
   "source": [
    "df.shape"
   ]
  },
  {
   "cell_type": "markdown",
   "id": "5fd028b2-0ae8-45d6-937b-4803b9aeb0b7",
   "metadata": {},
   "source": [
    "## Bagi dataset menjadi training set dan testing set dengan proporsi 70:30"
   ]
  },
  {
   "cell_type": "code",
   "execution_count": 5,
   "id": "94bf45a1-1963-4162-b3fa-adf0f6d82fec",
   "metadata": {},
   "outputs": [
    {
     "name": "stdout",
     "output_type": "stream",
     "text": [
      "Dimensi X_train (39228, 10)\n",
      "Dimensi X_test (16812, 10)\n",
      "Dimensi y_train (39228,)\n",
      "Dimensi y_test (16812,)\n"
     ]
    }
   ],
   "source": [
    "X = df.iloc[:, : -1]\n",
    "y = df.iloc[:, -1]\n",
    "\n",
    "X_train, X_test, y_train, y_test = train_test_split(X, y, test_size=0.3)\n",
    "\n",
    "print(\"Dimensi X_train\", X_train.shape)\n",
    "print(\"Dimensi X_test\", X_test.shape)\n",
    "print(\"Dimensi y_train\", y_train.shape)\n",
    "print(\"Dimensi y_test\", y_test.shape)"
   ]
  },
  {
   "cell_type": "markdown",
   "id": "dc953200-f5f3-48c5-90a9-d845327436e7",
   "metadata": {},
   "source": [
    "## Lakukan normalisasi data pada salah satu attribute menggunakan Min Max scaler (buatlah copy dataset terlebih dahulu)"
   ]
  },
  {
   "cell_type": "code",
   "execution_count": 16,
   "id": "6c4fc24d-7c73-4a84-9fec-e674e83c747c",
   "metadata": {},
   "outputs": [
    {
     "name": "stdout",
     "output_type": "stream",
     "text": [
      "\n",
      "Data Sebelum dan Sesudah dilakukan normalisasi : \n",
      "\n"
     ]
    },
    {
     "data": {
      "text/html": [
       "<div>\n",
       "<style scoped>\n",
       "    .dataframe tbody tr th:only-of-type {\n",
       "        vertical-align: middle;\n",
       "    }\n",
       "\n",
       "    .dataframe tbody tr th {\n",
       "        vertical-align: top;\n",
       "    }\n",
       "\n",
       "    .dataframe thead th {\n",
       "        text-align: right;\n",
       "    }\n",
       "</style>\n",
       "<table border=\"1\" class=\"dataframe\">\n",
       "  <thead>\n",
       "    <tr style=\"text-align: right;\">\n",
       "      <th></th>\n",
       "      <th>author_id</th>\n",
       "      <th>author_id_Normalization</th>\n",
       "    </tr>\n",
       "  </thead>\n",
       "  <tbody>\n",
       "    <tr>\n",
       "      <th>0</th>\n",
       "      <td>73506221</td>\n",
       "      <td>4.761253e-11</td>\n",
       "    </tr>\n",
       "    <tr>\n",
       "      <th>1</th>\n",
       "      <td>96631851</td>\n",
       "      <td>6.259411e-11</td>\n",
       "    </tr>\n",
       "    <tr>\n",
       "      <th>2</th>\n",
       "      <td>3041829701</td>\n",
       "      <td>1.970595e-09</td>\n",
       "    </tr>\n",
       "    <tr>\n",
       "      <th>3</th>\n",
       "      <td>177260708</td>\n",
       "      <td>1.148283e-10</td>\n",
       "    </tr>\n",
       "    <tr>\n",
       "      <th>4</th>\n",
       "      <td>1523376591052582912</td>\n",
       "      <td>9.868962e-01</td>\n",
       "    </tr>\n",
       "    <tr>\n",
       "      <th>5</th>\n",
       "      <td>14654281</td>\n",
       "      <td>9.486198e-12</td>\n",
       "    </tr>\n",
       "    <tr>\n",
       "      <th>6</th>\n",
       "      <td>15495018</td>\n",
       "      <td>1.003086e-11</td>\n",
       "    </tr>\n",
       "    <tr>\n",
       "      <th>7</th>\n",
       "      <td>1474160610292207627</td>\n",
       "      <td>9.550124e-01</td>\n",
       "    </tr>\n",
       "    <tr>\n",
       "      <th>8</th>\n",
       "      <td>872410623954616323</td>\n",
       "      <td>5.651779e-01</td>\n",
       "    </tr>\n",
       "    <tr>\n",
       "      <th>9</th>\n",
       "      <td>94012779</td>\n",
       "      <td>6.089739e-11</td>\n",
       "    </tr>\n",
       "  </tbody>\n",
       "</table>\n",
       "</div>"
      ],
      "text/plain": [
       "             author_id  author_id_Normalization\n",
       "0             73506221             4.761253e-11\n",
       "1             96631851             6.259411e-11\n",
       "2           3041829701             1.970595e-09\n",
       "3            177260708             1.148283e-10\n",
       "4  1523376591052582912             9.868962e-01\n",
       "5             14654281             9.486198e-12\n",
       "6             15495018             1.003086e-11\n",
       "7  1474160610292207627             9.550124e-01\n",
       "8   872410623954616323             5.651779e-01\n",
       "9             94012779             6.089739e-11"
      ]
     },
     "execution_count": 16,
     "metadata": {},
     "output_type": "execute_result"
    }
   ],
   "source": [
    "min_max = MinMaxScaler()\n",
    "\n",
    "# Copy Data\n",
    "copy1 = df\n",
    "dataCopy_normalization = copy1[[\"author_id\"]]\n",
    "\n",
    "normalization = min_max.fit_transform(dataCopy_normalization[[\"author_id\"]])\n",
    "\n",
    "df_normalization = pd.DataFrame(normalization)\n",
    "df_normalization.columns =[\"author_id_Normalization\"]\n",
    "\n",
    "dataCopy_normalization = dataCopy_normalization.join(df_normalization[\"author_id_Normalization\"]).reset_index()\n",
    "dataCopy_normalization = dataCopy_normalization.drop(\"index\", axis=1)\n",
    "\n",
    "print()\n",
    "print(\"Data Sebelum dan Sesudah dilakukan normalisasi : \\n\")\n",
    "dataCopy_normalization.head(10)"
   ]
  },
  {
   "cell_type": "markdown",
   "id": "8b55d482-f38f-40e1-b29a-c99e8c386fb9",
   "metadata": {},
   "source": [
    "## Lakukan standarisasi pada dataset (buatlah copy dataset terlebih dahulu)"
   ]
  },
  {
   "cell_type": "code",
   "execution_count": 15,
   "id": "43e71289-b3b5-4e32-a0af-6a67f15be5db",
   "metadata": {},
   "outputs": [
    {
     "name": "stdout",
     "output_type": "stream",
     "text": [
      "Atribut 'author_id' Sebelum dan Sesudah Standarisasi:\n",
      "\n",
      "Sebelum Standarisasi:\n",
      "\n",
      "             author_id\n",
      "0             73506221\n",
      "1             96631851\n",
      "2           3041829701\n",
      "3            177260708\n",
      "4  1523376591052582912\n",
      "5             14654281\n",
      "6             15495018\n",
      "7  1474160610292207627\n",
      "8   872410623954616323\n",
      "9             94012779\n",
      "\n",
      "Sesudah Standarisasi:\n",
      "\n",
      "   author_id\n",
      "0  -1.062523\n",
      "1  -1.062523\n",
      "2  -1.062523\n",
      "3  -1.062523\n",
      "4   1.268797\n",
      "5  -1.062523\n",
      "6  -1.062523\n",
      "7   1.193478\n",
      "8   0.272582\n",
      "9  -1.062523\n"
     ]
    }
   ],
   "source": [
    "# Membuat salinan dataset\n",
    "data_copy = df.copy()\n",
    "\n",
    "# Memilih atribut yang ingin di standarisasi\n",
    "attribute_to_standardize = 'author_id'\n",
    "\n",
    "# Inisialisasi StandardScaler\n",
    "scaler = StandardScaler()\n",
    "\n",
    "# Standarisasi atribut\n",
    "data_copy[attribute_to_standardize] = scaler.fit_transform(data_copy[[attribute_to_standardize]])\n",
    "\n",
    "# Menampilkan atribut 'author_id' sebelum dan sesudah standarisasi\n",
    "print(\"Atribut 'author_id' Sebelum dan Sesudah Standarisasi:\\n\")\n",
    "print(\"Sebelum Standarisasi:\\n\")\n",
    "print(df[[attribute_to_standardize]].head(10))\n",
    "print(\"\\nSesudah Standarisasi:\\n\")\n",
    "print(data_copy[[attribute_to_standardize]].head(10))\n"
   ]
  },
  {
   "cell_type": "markdown",
   "id": "c3363b57-a5d0-4a9a-bffb-9f44362853ec",
   "metadata": {},
   "source": [
    "## Lakukan Data cleaning pada data dengan nilai null (jika tidak ada nilai null pada dataset, maka buatlah menjadi ada). Ganti nilai null sesuai ketentuan. (bilangan bulat : median/modus, bilangan desimal : mean, tulisan : modus)."
   ]
  },
  {
   "cell_type": "markdown",
   "id": "6b8b19da-4cda-42ed-ae25-574f998671b3",
   "metadata": {},
   "source": [
    "## Tampilkan Nilai Null"
   ]
  },
  {
   "cell_type": "code",
   "execution_count": 17,
   "id": "96883ddd-779c-497f-927c-c5d7bb41557a",
   "metadata": {},
   "outputs": [
    {
     "data": {
      "text/plain": [
       "Unnamed: 0         0\n",
       "author_id          0\n",
       "author_name        9\n",
       "author_username    0\n",
       "created_at         0\n",
       "id                 0\n",
       "public_metrics     0\n",
       "text               0\n",
       "retweet_count      0\n",
       "like_count         0\n",
       "target             0\n",
       "dtype: int64"
      ]
     },
     "execution_count": 17,
     "metadata": {},
     "output_type": "execute_result"
    }
   ],
   "source": [
    "df.isna().sum()"
   ]
  },
  {
   "cell_type": "markdown",
   "id": "6d038c16-98ea-4771-b744-b64d3601b9b1",
   "metadata": {},
   "source": [
    "## Menghapus Nilai Null"
   ]
  },
  {
   "cell_type": "code",
   "execution_count": 18,
   "id": "d7bb6164-a553-44ca-a3e8-8c6158b47031",
   "metadata": {},
   "outputs": [
    {
     "data": {
      "text/plain": [
       "Unnamed: 0         0\n",
       "author_id          0\n",
       "author_name        0\n",
       "author_username    0\n",
       "created_at         0\n",
       "id                 0\n",
       "public_metrics     0\n",
       "text               0\n",
       "retweet_count      0\n",
       "like_count         0\n",
       "target             0\n",
       "dtype: int64"
      ]
     },
     "execution_count": 18,
     "metadata": {},
     "output_type": "execute_result"
    }
   ],
   "source": [
    "df.dropna(inplace=True) \n",
    "df.isna().sum()"
   ]
  },
  {
   "cell_type": "markdown",
   "id": "5336e2bd-096e-4bf9-9501-9f3c6d4ae7c0",
   "metadata": {},
   "source": [
    "## Mengubah bilangan bulat menjadi median/modus"
   ]
  },
  {
   "cell_type": "code",
   "execution_count": 19,
   "id": "6375a18e-a894-4e75-80cc-0387753c5689",
   "metadata": {},
   "outputs": [
    {
     "data": {
      "text/plain": [
       "Unnamed: 0         0\n",
       "author_id          0\n",
       "author_name        9\n",
       "author_username    0\n",
       "created_at         0\n",
       "id                 0\n",
       "public_metrics     0\n",
       "text               0\n",
       "retweet_count      0\n",
       "like_count         0\n",
       "target             0\n",
       "dtype: int64"
      ]
     },
     "execution_count": 19,
     "metadata": {},
     "output_type": "execute_result"
    }
   ],
   "source": [
    "data = pd.read_csv('prochoice_prolife.csv')\n",
    "strategi1 = SimpleImputer(strategy=\"median\")\n",
    "\n",
    "data[\"author_id\"] = strategi1.fit_transform(data[[\"author_id\"]])\n",
    "\n",
    "data.isna().sum()"
   ]
  },
  {
   "cell_type": "markdown",
   "id": "cd9d4fcd-8a42-48ba-9972-9e53712eb414",
   "metadata": {},
   "source": [
    "## Mengubah bilangan desimal menjadi mean"
   ]
  },
  {
   "cell_type": "code",
   "execution_count": 20,
   "id": "81fedafa-7a6f-4ee4-84f9-7ca24c181ec8",
   "metadata": {},
   "outputs": [
    {
     "name": "stdout",
     "output_type": "stream",
     "text": [
      "Unnamed: 0         0\n",
      "author_id          0\n",
      "author_name        9\n",
      "author_username    0\n",
      "created_at         0\n",
      "id                 0\n",
      "public_metrics     0\n",
      "text               0\n",
      "retweet_count      0\n",
      "like_count         0\n",
      "target             0\n",
      "dtype: int64\n"
     ]
    }
   ],
   "source": [
    "import pandas as pd\n",
    "from sklearn.impute import SimpleImputer\n",
    "\n",
    "data = pd.read_csv('prochoice_prolife.csv')\n",
    "\n",
    "# Pilih kolom yang ingin diimputasi, misalnya \"Unnamed: 0\"\n",
    "column_to_impute = \"Unnamed: 0\"\n",
    "\n",
    "# Inisialisasi SimpleImputer dengan strategi mean\n",
    "imputer = SimpleImputer(strategy=\"mean\")\n",
    "\n",
    "# Lakukan imputasi pada kolom yang dipilih\n",
    "data[column_to_impute] = imputer.fit_transform(data[[column_to_impute]])\n",
    "\n",
    "# Cek apakah masih ada nilai yang hilang\n",
    "missing_values = data.isna().sum()\n",
    "\n",
    "# Tampilkan jumlah nilai yang hilang untuk setiap kolom\n",
    "print(missing_values)\n"
   ]
  },
  {
   "cell_type": "markdown",
   "id": "8c73c958-b535-4e16-99ae-31477d285a81",
   "metadata": {},
   "source": [
    "## Mengubah tulisan menjadi modus"
   ]
  },
  {
   "cell_type": "code",
   "execution_count": 21,
   "id": "abe30116-a823-49f5-99a7-6c177fd69441",
   "metadata": {},
   "outputs": [
    {
     "name": "stdout",
     "output_type": "stream",
     "text": [
      "Unnamed: 0         0\n",
      "author_id          0\n",
      "author_name        0\n",
      "author_username    0\n",
      "created_at         0\n",
      "id                 0\n",
      "public_metrics     0\n",
      "text               0\n",
      "retweet_count      0\n",
      "like_count         0\n",
      "target             0\n",
      "dtype: int64\n"
     ]
    }
   ],
   "source": [
    "import pandas as pd\n",
    "\n",
    "data = pd.read_csv('prochoice_prolife.csv')\n",
    "\n",
    "# Daftar kolom yang akan diisi dengan modus\n",
    "kolom_modus = ['Unnamed: 0', 'author_id', 'author_name', 'author_username', 'created_at', 'id', 'public_metrics', 'text', 'retweet_count', 'like_count', 'target']\n",
    "\n",
    "# Loop melalui kolom-kolom tersebut dan ganti nilai null dengan modus\n",
    "for kolom in kolom_modus:\n",
    "    modus = data[kolom].mode()[0]  # Mengambil modus kolom\n",
    "    data[kolom].fillna(modus, inplace=True)\n",
    "\n",
    "# Cek apakah masih ada nilai yang hilang\n",
    "missing_values = data.isna().sum()\n",
    "\n",
    "# Tampilkan jumlah nilai yang hilang untuk setiap kolom\n",
    "print(missing_values)\n"
   ]
  },
  {
   "cell_type": "markdown",
   "id": "00261e21-defc-4f60-b8a2-93df0adf7b60",
   "metadata": {},
   "source": [
    "## Cleaning Duplicate"
   ]
  },
  {
   "cell_type": "code",
   "execution_count": 22,
   "id": "4651615e-cd9b-4c62-91de-3f325c2ff2f6",
   "metadata": {},
   "outputs": [
    {
     "name": "stdout",
     "output_type": "stream",
     "text": [
      "Jumlah Data Duplikat : \n"
     ]
    },
    {
     "data": {
      "text/plain": [
       "0"
      ]
     },
     "execution_count": 22,
     "metadata": {},
     "output_type": "execute_result"
    }
   ],
   "source": [
    "data[data.duplicated()]\n",
    "\n",
    "print(\"Jumlah Data Duplikat : \")\n",
    "data.duplicated().sum()"
   ]
  },
  {
   "cell_type": "markdown",
   "id": "644fea94-1496-498c-98da-7e0d50c8b625",
   "metadata": {},
   "source": [
    "## Karena tidak ada data nilai duplikat maka membuat nilai duplikat"
   ]
  },
  {
   "cell_type": "code",
   "execution_count": 24,
   "id": "a9ea0711-59f4-42c4-afa9-0dc122f8a2f2",
   "metadata": {},
   "outputs": [
    {
     "name": "stdout",
     "output_type": "stream",
     "text": [
      "Jumlah data duplicated sekarang :\n"
     ]
    },
    {
     "data": {
      "text/plain": [
       "56040"
      ]
     },
     "execution_count": 24,
     "metadata": {},
     "output_type": "execute_result"
    }
   ],
   "source": [
    "make_duplicated = pd.concat([data]*2, ignore_index=True)\n",
    "make_duplicated.duplicated()\n",
    "\n",
    "print(\"Jumlah data duplicated sekarang :\")\n",
    "make_duplicated.duplicated().sum()\n"
   ]
  },
  {
   "cell_type": "code",
   "execution_count": 25,
   "id": "b7883f49-c742-4b66-ab3e-17b56f00b417",
   "metadata": {},
   "outputs": [
    {
     "name": "stdout",
     "output_type": "stream",
     "text": [
      "Jumlah data duplicated setelah di drop :\n"
     ]
    },
    {
     "data": {
      "text/plain": [
       "0"
      ]
     },
     "execution_count": 25,
     "metadata": {},
     "output_type": "execute_result"
    }
   ],
   "source": [
    "make_duplicated.drop_duplicates(inplace=True)\n",
    "\n",
    "hasil = make_duplicated.reset_index(drop=True)\n",
    "print(\"Jumlah data duplicated setelah di drop :\")\n",
    "hasil.duplicated().sum()"
   ]
  },
  {
   "cell_type": "markdown",
   "id": "a68971d8-ee80-496e-9c83-592902ff9e81",
   "metadata": {},
   "source": [
    "## Ganti tipe data salah satu attribute angka"
   ]
  },
  {
   "cell_type": "code",
   "execution_count": 26,
   "id": "4f16bd84-8e36-46ab-82fd-590681af841f",
   "metadata": {},
   "outputs": [
    {
     "name": "stdout",
     "output_type": "stream",
     "text": [
      "Tipe data points sebelum diubah :\n"
     ]
    },
    {
     "data": {
      "text/plain": [
       "dtype('int64')"
      ]
     },
     "execution_count": 26,
     "metadata": {},
     "output_type": "execute_result"
    }
   ],
   "source": [
    "print(\"Tipe data points sebelum diubah :\")\n",
    "df[\"author_id\"].dtypes"
   ]
  },
  {
   "cell_type": "code",
   "execution_count": 27,
   "id": "2d1b2192-34e0-49f3-9772-6bf1de352221",
   "metadata": {},
   "outputs": [
    {
     "name": "stdout",
     "output_type": "stream",
     "text": [
      "Tipe data points setelah diubah :\n"
     ]
    },
    {
     "data": {
      "text/plain": [
       "dtype('float64')"
      ]
     },
     "execution_count": 27,
     "metadata": {},
     "output_type": "execute_result"
    }
   ],
   "source": [
    "ubah_dtype = data[\"author_id\"].astype(\"float\")\n",
    "print(\"Tipe data points setelah diubah :\")\n",
    "ubah_dtype.dtypes"
   ]
  },
  {
   "cell_type": "markdown",
   "id": "8f916de0-1312-4e55-b3e5-2150dcc27338",
   "metadata": {},
   "source": [
    "## Lakukan one hot encoding pada dataset yang kalian miliki"
   ]
  },
  {
   "cell_type": "code",
   "execution_count": 45,
   "id": "0efa6c12-da98-4e71-9cb4-a217b457f2de",
   "metadata": {},
   "outputs": [
    {
     "name": "stderr",
     "output_type": "stream",
     "text": [
      "C:\\Users\\hp\\OneDrive\\Dokumen\\venv_C1_21\\Ramdan_116\\lib\\site-packages\\sklearn\\preprocessing\\_encoders.py:975: FutureWarning: `sparse` was renamed to `sparse_output` in version 1.2 and will be removed in 1.4. `sparse_output` is ignored unless you leave `sparse` to its default value.\n",
      "  warnings.warn(\n"
     ]
    },
    {
     "data": {
      "text/html": [
       "<div>\n",
       "<style scoped>\n",
       "    .dataframe tbody tr th:only-of-type {\n",
       "        vertical-align: middle;\n",
       "    }\n",
       "\n",
       "    .dataframe tbody tr th {\n",
       "        vertical-align: top;\n",
       "    }\n",
       "\n",
       "    .dataframe thead th {\n",
       "        text-align: right;\n",
       "    }\n",
       "</style>\n",
       "<table border=\"1\" class=\"dataframe\">\n",
       "  <thead>\n",
       "    <tr style=\"text-align: right;\">\n",
       "      <th></th>\n",
       "      <th>Unnamed: 0</th>\n",
       "      <th>author_id</th>\n",
       "      <th>author_name</th>\n",
       "      <th>author_username</th>\n",
       "      <th>created_at</th>\n",
       "      <th>id</th>\n",
       "      <th>public_metrics</th>\n",
       "      <th>text</th>\n",
       "      <th>like_count</th>\n",
       "      <th>target</th>\n",
       "      <th>...</th>\n",
       "      <th>retweet_count_470</th>\n",
       "      <th>retweet_count_482</th>\n",
       "      <th>retweet_count_485</th>\n",
       "      <th>retweet_count_492</th>\n",
       "      <th>retweet_count_596</th>\n",
       "      <th>retweet_count_821</th>\n",
       "      <th>retweet_count_869</th>\n",
       "      <th>retweet_count_1383</th>\n",
       "      <th>retweet_count_1475</th>\n",
       "      <th>retweet_count_2009</th>\n",
       "    </tr>\n",
       "  </thead>\n",
       "  <tbody>\n",
       "    <tr>\n",
       "      <th>0</th>\n",
       "      <td>28588</td>\n",
       "      <td>73506221</td>\n",
       "      <td>Oregon Right to Life</td>\n",
       "      <td>OR_RTL</td>\n",
       "      <td>2022-06-23 00:00:06+00:00</td>\n",
       "      <td>1539760170900799490</td>\n",
       "      <td>{'retweet_count': 5, 'reply_count': 0, 'like_c...</td>\n",
       "      <td>We know that unsupported pregnancies can gener...</td>\n",
       "      <td>13</td>\n",
       "      <td>1</td>\n",
       "      <td>...</td>\n",
       "      <td>0.0</td>\n",
       "      <td>0.0</td>\n",
       "      <td>0.0</td>\n",
       "      <td>0.0</td>\n",
       "      <td>0.0</td>\n",
       "      <td>0.0</td>\n",
       "      <td>0.0</td>\n",
       "      <td>0.0</td>\n",
       "      <td>0.0</td>\n",
       "      <td>0.0</td>\n",
       "    </tr>\n",
       "    <tr>\n",
       "      <th>1</th>\n",
       "      <td>28587</td>\n",
       "      <td>96631851</td>\n",
       "      <td>αιяgσ*мαтι¢*σρтιχ</td>\n",
       "      <td>sacraficial</td>\n",
       "      <td>2022-06-23 00:01:14+00:00</td>\n",
       "      <td>1539760456977395712</td>\n",
       "      <td>{'retweet_count': 0, 'reply_count': 0, 'like_c...</td>\n",
       "      <td>If you are murdered by a George W. Bush weapon...</td>\n",
       "      <td>0</td>\n",
       "      <td>1</td>\n",
       "      <td>...</td>\n",
       "      <td>0.0</td>\n",
       "      <td>0.0</td>\n",
       "      <td>0.0</td>\n",
       "      <td>0.0</td>\n",
       "      <td>0.0</td>\n",
       "      <td>0.0</td>\n",
       "      <td>0.0</td>\n",
       "      <td>0.0</td>\n",
       "      <td>0.0</td>\n",
       "      <td>0.0</td>\n",
       "    </tr>\n",
       "    <tr>\n",
       "      <th>2</th>\n",
       "      <td>28586</td>\n",
       "      <td>3041829701</td>\n",
       "      <td>skb</td>\n",
       "      <td>skb37027</td>\n",
       "      <td>2022-06-23 00:04:30+00:00</td>\n",
       "      <td>1539761277702213633</td>\n",
       "      <td>{'retweet_count': 0, 'reply_count': 0, 'like_c...</td>\n",
       "      <td>.@MarshaBlackburn so much for #ProLife. https:...</td>\n",
       "      <td>0</td>\n",
       "      <td>1</td>\n",
       "      <td>...</td>\n",
       "      <td>0.0</td>\n",
       "      <td>0.0</td>\n",
       "      <td>0.0</td>\n",
       "      <td>0.0</td>\n",
       "      <td>0.0</td>\n",
       "      <td>0.0</td>\n",
       "      <td>0.0</td>\n",
       "      <td>0.0</td>\n",
       "      <td>0.0</td>\n",
       "      <td>0.0</td>\n",
       "    </tr>\n",
       "    <tr>\n",
       "      <th>3</th>\n",
       "      <td>28537</td>\n",
       "      <td>177260708</td>\n",
       "      <td>Right To Life League</td>\n",
       "      <td>Right2LifeLg</td>\n",
       "      <td>2022-06-23 00:09:50+00:00</td>\n",
       "      <td>1539762620055552001</td>\n",
       "      <td>{'retweet_count': 6, 'reply_count': 3, 'like_c...</td>\n",
       "      <td>Follow our instagram for more posts like this!...</td>\n",
       "      <td>19</td>\n",
       "      <td>1</td>\n",
       "      <td>...</td>\n",
       "      <td>0.0</td>\n",
       "      <td>0.0</td>\n",
       "      <td>0.0</td>\n",
       "      <td>0.0</td>\n",
       "      <td>0.0</td>\n",
       "      <td>0.0</td>\n",
       "      <td>0.0</td>\n",
       "      <td>0.0</td>\n",
       "      <td>0.0</td>\n",
       "      <td>0.0</td>\n",
       "    </tr>\n",
       "    <tr>\n",
       "      <th>4</th>\n",
       "      <td>27450</td>\n",
       "      <td>1523376591052582912</td>\n",
       "      <td>No Forced Birth</td>\n",
       "      <td>NoForcedBirth</td>\n",
       "      <td>2022-06-23 00:09:57+00:00</td>\n",
       "      <td>1539762647922421763</td>\n",
       "      <td>{'retweet_count': 0, 'reply_count': 0, 'like_c...</td>\n",
       "      <td>Another classy tweet from the forced birth cro...</td>\n",
       "      <td>1</td>\n",
       "      <td>0</td>\n",
       "      <td>...</td>\n",
       "      <td>0.0</td>\n",
       "      <td>0.0</td>\n",
       "      <td>0.0</td>\n",
       "      <td>0.0</td>\n",
       "      <td>0.0</td>\n",
       "      <td>0.0</td>\n",
       "      <td>0.0</td>\n",
       "      <td>0.0</td>\n",
       "      <td>0.0</td>\n",
       "      <td>0.0</td>\n",
       "    </tr>\n",
       "    <tr>\n",
       "      <th>5</th>\n",
       "      <td>28585</td>\n",
       "      <td>14654281</td>\n",
       "      <td>Tim Elsey</td>\n",
       "      <td>elset</td>\n",
       "      <td>2022-06-23 00:12:08+00:00</td>\n",
       "      <td>1539763199095934976</td>\n",
       "      <td>{'retweet_count': 0, 'reply_count': 0, 'like_c...</td>\n",
       "      <td>#ProLife https://t.co/j3Ro3VTMwu</td>\n",
       "      <td>0</td>\n",
       "      <td>1</td>\n",
       "      <td>...</td>\n",
       "      <td>0.0</td>\n",
       "      <td>0.0</td>\n",
       "      <td>0.0</td>\n",
       "      <td>0.0</td>\n",
       "      <td>0.0</td>\n",
       "      <td>0.0</td>\n",
       "      <td>0.0</td>\n",
       "      <td>0.0</td>\n",
       "      <td>0.0</td>\n",
       "      <td>0.0</td>\n",
       "    </tr>\n",
       "    <tr>\n",
       "      <th>6</th>\n",
       "      <td>28584</td>\n",
       "      <td>15495018</td>\n",
       "      <td>WorthyNews</td>\n",
       "      <td>worthynews</td>\n",
       "      <td>2022-06-23 00:16:21+00:00</td>\n",
       "      <td>1539764259512516608</td>\n",
       "      <td>{'retweet_count': 0, 'reply_count': 0, 'like_c...</td>\n",
       "      <td>Two Michigan pro-life centers vandalized as at...</td>\n",
       "      <td>0</td>\n",
       "      <td>1</td>\n",
       "      <td>...</td>\n",
       "      <td>0.0</td>\n",
       "      <td>0.0</td>\n",
       "      <td>0.0</td>\n",
       "      <td>0.0</td>\n",
       "      <td>0.0</td>\n",
       "      <td>0.0</td>\n",
       "      <td>0.0</td>\n",
       "      <td>0.0</td>\n",
       "      <td>0.0</td>\n",
       "      <td>0.0</td>\n",
       "    </tr>\n",
       "    <tr>\n",
       "      <th>7</th>\n",
       "      <td>27449</td>\n",
       "      <td>1474160610292207627</td>\n",
       "      <td>Joey for Michigan</td>\n",
       "      <td>JoeyforMichigan</td>\n",
       "      <td>2022-06-23 00:22:27+00:00</td>\n",
       "      <td>1539765794074247170</td>\n",
       "      <td>{'retweet_count': 0, 'reply_count': 0, 'like_c...</td>\n",
       "      <td>The dismantling of our civil rights by #SCOTUS...</td>\n",
       "      <td>7</td>\n",
       "      <td>0</td>\n",
       "      <td>...</td>\n",
       "      <td>0.0</td>\n",
       "      <td>0.0</td>\n",
       "      <td>0.0</td>\n",
       "      <td>0.0</td>\n",
       "      <td>0.0</td>\n",
       "      <td>0.0</td>\n",
       "      <td>0.0</td>\n",
       "      <td>0.0</td>\n",
       "      <td>0.0</td>\n",
       "      <td>0.0</td>\n",
       "    </tr>\n",
       "    <tr>\n",
       "      <th>8</th>\n",
       "      <td>28583</td>\n",
       "      <td>872410623954616323</td>\n",
       "      <td>Melissa🐝</td>\n",
       "      <td>miakaye46</td>\n",
       "      <td>2022-06-23 00:26:44+00:00</td>\n",
       "      <td>1539766873390256132</td>\n",
       "      <td>{'retweet_count': 1, 'reply_count': 0, 'like_c...</td>\n",
       "      <td>#Catholic #ProLife https://t.co/aAd1ZA1WQY</td>\n",
       "      <td>2</td>\n",
       "      <td>1</td>\n",
       "      <td>...</td>\n",
       "      <td>0.0</td>\n",
       "      <td>0.0</td>\n",
       "      <td>0.0</td>\n",
       "      <td>0.0</td>\n",
       "      <td>0.0</td>\n",
       "      <td>0.0</td>\n",
       "      <td>0.0</td>\n",
       "      <td>0.0</td>\n",
       "      <td>0.0</td>\n",
       "      <td>0.0</td>\n",
       "    </tr>\n",
       "    <tr>\n",
       "      <th>9</th>\n",
       "      <td>28582</td>\n",
       "      <td>94012779</td>\n",
       "      <td>Bill Scott</td>\n",
       "      <td>BillMiami</td>\n",
       "      <td>2022-06-23 00:28:36+00:00</td>\n",
       "      <td>1539767340782559233</td>\n",
       "      <td>{'retweet_count': 0, 'reply_count': 0, 'like_c...</td>\n",
       "      <td>Marco Rubio please vote for the Gun Reform Bil...</td>\n",
       "      <td>0</td>\n",
       "      <td>1</td>\n",
       "      <td>...</td>\n",
       "      <td>0.0</td>\n",
       "      <td>0.0</td>\n",
       "      <td>0.0</td>\n",
       "      <td>0.0</td>\n",
       "      <td>0.0</td>\n",
       "      <td>0.0</td>\n",
       "      <td>0.0</td>\n",
       "      <td>0.0</td>\n",
       "      <td>0.0</td>\n",
       "      <td>0.0</td>\n",
       "    </tr>\n",
       "  </tbody>\n",
       "</table>\n",
       "<p>10 rows × 159 columns</p>\n",
       "</div>"
      ],
      "text/plain": [
       "   Unnamed: 0            author_id           author_name  author_username  \\\n",
       "0       28588             73506221  Oregon Right to Life           OR_RTL   \n",
       "1       28587             96631851     αιяgσ*мαтι¢*σρтιχ      sacraficial   \n",
       "2       28586           3041829701                   skb         skb37027   \n",
       "3       28537            177260708  Right To Life League     Right2LifeLg   \n",
       "4       27450  1523376591052582912       No Forced Birth    NoForcedBirth   \n",
       "5       28585             14654281             Tim Elsey            elset   \n",
       "6       28584             15495018            WorthyNews       worthynews   \n",
       "7       27449  1474160610292207627     Joey for Michigan  JoeyforMichigan   \n",
       "8       28583   872410623954616323              Melissa🐝        miakaye46   \n",
       "9       28582             94012779            Bill Scott        BillMiami   \n",
       "\n",
       "                  created_at                   id  \\\n",
       "0  2022-06-23 00:00:06+00:00  1539760170900799490   \n",
       "1  2022-06-23 00:01:14+00:00  1539760456977395712   \n",
       "2  2022-06-23 00:04:30+00:00  1539761277702213633   \n",
       "3  2022-06-23 00:09:50+00:00  1539762620055552001   \n",
       "4  2022-06-23 00:09:57+00:00  1539762647922421763   \n",
       "5  2022-06-23 00:12:08+00:00  1539763199095934976   \n",
       "6  2022-06-23 00:16:21+00:00  1539764259512516608   \n",
       "7  2022-06-23 00:22:27+00:00  1539765794074247170   \n",
       "8  2022-06-23 00:26:44+00:00  1539766873390256132   \n",
       "9  2022-06-23 00:28:36+00:00  1539767340782559233   \n",
       "\n",
       "                                      public_metrics  \\\n",
       "0  {'retweet_count': 5, 'reply_count': 0, 'like_c...   \n",
       "1  {'retweet_count': 0, 'reply_count': 0, 'like_c...   \n",
       "2  {'retweet_count': 0, 'reply_count': 0, 'like_c...   \n",
       "3  {'retweet_count': 6, 'reply_count': 3, 'like_c...   \n",
       "4  {'retweet_count': 0, 'reply_count': 0, 'like_c...   \n",
       "5  {'retweet_count': 0, 'reply_count': 0, 'like_c...   \n",
       "6  {'retweet_count': 0, 'reply_count': 0, 'like_c...   \n",
       "7  {'retweet_count': 0, 'reply_count': 0, 'like_c...   \n",
       "8  {'retweet_count': 1, 'reply_count': 0, 'like_c...   \n",
       "9  {'retweet_count': 0, 'reply_count': 0, 'like_c...   \n",
       "\n",
       "                                                text  like_count  target  ...  \\\n",
       "0  We know that unsupported pregnancies can gener...          13       1  ...   \n",
       "1  If you are murdered by a George W. Bush weapon...           0       1  ...   \n",
       "2  .@MarshaBlackburn so much for #ProLife. https:...           0       1  ...   \n",
       "3  Follow our instagram for more posts like this!...          19       1  ...   \n",
       "4  Another classy tweet from the forced birth cro...           1       0  ...   \n",
       "5                   #ProLife https://t.co/j3Ro3VTMwu           0       1  ...   \n",
       "6  Two Michigan pro-life centers vandalized as at...           0       1  ...   \n",
       "7  The dismantling of our civil rights by #SCOTUS...           7       0  ...   \n",
       "8         #Catholic #ProLife https://t.co/aAd1ZA1WQY           2       1  ...   \n",
       "9  Marco Rubio please vote for the Gun Reform Bil...           0       1  ...   \n",
       "\n",
       "   retweet_count_470  retweet_count_482  retweet_count_485  retweet_count_492  \\\n",
       "0                0.0                0.0                0.0                0.0   \n",
       "1                0.0                0.0                0.0                0.0   \n",
       "2                0.0                0.0                0.0                0.0   \n",
       "3                0.0                0.0                0.0                0.0   \n",
       "4                0.0                0.0                0.0                0.0   \n",
       "5                0.0                0.0                0.0                0.0   \n",
       "6                0.0                0.0                0.0                0.0   \n",
       "7                0.0                0.0                0.0                0.0   \n",
       "8                0.0                0.0                0.0                0.0   \n",
       "9                0.0                0.0                0.0                0.0   \n",
       "\n",
       "   retweet_count_596  retweet_count_821  retweet_count_869  \\\n",
       "0                0.0                0.0                0.0   \n",
       "1                0.0                0.0                0.0   \n",
       "2                0.0                0.0                0.0   \n",
       "3                0.0                0.0                0.0   \n",
       "4                0.0                0.0                0.0   \n",
       "5                0.0                0.0                0.0   \n",
       "6                0.0                0.0                0.0   \n",
       "7                0.0                0.0                0.0   \n",
       "8                0.0                0.0                0.0   \n",
       "9                0.0                0.0                0.0   \n",
       "\n",
       "   retweet_count_1383  retweet_count_1475  retweet_count_2009  \n",
       "0                 0.0                 0.0                 0.0  \n",
       "1                 0.0                 0.0                 0.0  \n",
       "2                 0.0                 0.0                 0.0  \n",
       "3                 0.0                 0.0                 0.0  \n",
       "4                 0.0                 0.0                 0.0  \n",
       "5                 0.0                 0.0                 0.0  \n",
       "6                 0.0                 0.0                 0.0  \n",
       "7                 0.0                 0.0                 0.0  \n",
       "8                 0.0                 0.0                 0.0  \n",
       "9                 0.0                 0.0                 0.0  \n",
       "\n",
       "[10 rows x 159 columns]"
      ]
     },
     "execution_count": 45,
     "metadata": {},
     "output_type": "execute_result"
    }
   ],
   "source": [
    "from sklearn.preprocessing import OneHotEncoder\n",
    "import pandas as pd\n",
    "\n",
    "# Memuat dataset\n",
    "data = pd.read_csv('prochoice_prolife.csv')\n",
    "\n",
    "# Inisialisasi OneHotEncoder\n",
    "one_hot = OneHotEncoder(sparse=False, drop='first')  # drop='first' menghapus kategori pertama untuk menghindari multicollinearity\n",
    "\n",
    "# Melakukan one-hot encoding pada kolom yang ingin di-encode, misalnya 'retweet_count'\n",
    "df_onehot = one_hot.fit_transform(data[['retweet_count']])\n",
    "\n",
    "# Membuat DataFrame dari hasil encoding\n",
    "df_encoded = pd.DataFrame(df_onehot, columns=one_hot.get_feature_names_out(['retweet_count']))\n",
    "\n",
    "# Menggabungkan hasil encoding ke dalam dataset asli\n",
    "data = pd.concat([data, df_encoded], axis=1)\n",
    "\n",
    "# Hapus kolom asli yang telah di-one-hot-encoded\n",
    "data.drop(['retweet_count'], axis=1, inplace=True)\n",
    "\n",
    "# Menampilkan hasil\n",
    "data.head(10)\n"
   ]
  },
  {
   "cell_type": "code",
   "execution_count": null,
   "id": "eb73c748-e77c-4140-9944-37563b6585a8",
   "metadata": {},
   "outputs": [],
   "source": []
  }
 ],
 "metadata": {
  "kernelspec": {
   "display_name": "Python 3 (ipykernel)",
   "language": "python",
   "name": "python3"
  },
  "language_info": {
   "codemirror_mode": {
    "name": "ipython",
    "version": 3
   },
   "file_extension": ".py",
   "mimetype": "text/x-python",
   "name": "python",
   "nbconvert_exporter": "python",
   "pygments_lexer": "ipython3",
   "version": "3.10.7"
  }
 },
 "nbformat": 4,
 "nbformat_minor": 5
}
